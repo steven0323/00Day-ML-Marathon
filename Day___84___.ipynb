{
  "nbformat": 4,
  "nbformat_minor": 0,
  "metadata": {
    "colab": {
      "name": "Day___84___.ipynb",
      "provenance": [],
      "collapsed_sections": []
    },
    "kernelspec": {
      "name": "python3",
      "display_name": "Python 3"
    }
  },
  "cells": [
    {
      "cell_type": "code",
      "metadata": {
        "id": "aabm44uIZW73",
        "colab_type": "code",
        "colab": {
          "base_uri": "https://localhost:8080/",
          "height": 97
        },
        "outputId": "2e76a987-b161-4081-e5b4-d30c4bede409"
      },
      "source": [
        "import os\n",
        "import keras\n",
        "import itertools"
      ],
      "execution_count": 1,
      "outputs": [
        {
          "output_type": "stream",
          "text": [
            "Using TensorFlow backend.\n"
          ],
          "name": "stderr"
        },
        {
          "output_type": "display_data",
          "data": {
            "text/html": [
              "<p style=\"color: red;\">\n",
              "The default version of TensorFlow in Colab will soon switch to TensorFlow 2.x.<br>\n",
              "We recommend you <a href=\"https://www.tensorflow.org/guide/migrate\" target=\"_blank\">upgrade</a> now \n",
              "or ensure your notebook will continue to use TensorFlow 1.x via the <code>%tensorflow_version 1.x</code> magic:\n",
              "<a href=\"https://colab.research.google.com/notebooks/tensorflow_version.ipynb\" target=\"_blank\">more info</a>.</p>\n"
            ],
            "text/plain": [
              "<IPython.core.display.HTML object>"
            ]
          },
          "metadata": {
            "tags": []
          }
        }
      ]
    },
    {
      "cell_type": "code",
      "metadata": {
        "id": "x8Yx7tSBZqoh",
        "colab_type": "code",
        "colab": {
          "base_uri": "https://localhost:8080/",
          "height": 51
        },
        "outputId": "9ac4d794-f17b-4ec4-9ca9-eae77f960760"
      },
      "source": [
        "train,test = keras.datasets.cifar10.load_data()"
      ],
      "execution_count": 2,
      "outputs": [
        {
          "output_type": "stream",
          "text": [
            "Downloading data from https://www.cs.toronto.edu/~kriz/cifar-10-python.tar.gz\n",
            "170500096/170498071 [==============================] - 11s 0us/step\n"
          ],
          "name": "stdout"
        }
      ]
    },
    {
      "cell_type": "code",
      "metadata": {
        "id": "uvE0peZ5ZzAj",
        "colab_type": "code",
        "colab": {}
      },
      "source": [
        "def preprocessing_x(x,flatten = True):\n",
        "  x = x / 255\n",
        "  if flatten:\n",
        "    x = x.reshape((len(x),-1))\n",
        "  return x\n",
        "\n",
        "def preprocessing_y(y,num_classes=10):\n",
        "  if y.shape[-1] ==1:\n",
        "    y = keras.utils.to_categorical(y,num_classes)\n",
        "  return y\n",
        "  "
      ],
      "execution_count": 0,
      "outputs": []
    },
    {
      "cell_type": "code",
      "metadata": {
        "id": "C7SUe7J-aXp6",
        "colab_type": "code",
        "colab": {}
      },
      "source": [
        "x_train,y_train = train\n",
        "x_test,y_test = test\n",
        "\n",
        "x_train = preprocessing_x(x_train)\n",
        "x_test = preprocessing_x(x_test)\n",
        "\n",
        "y_train = preprocessing_y(y_train)\n",
        "y_test = preprocessing_y(y_test)\n"
      ],
      "execution_count": 0,
      "outputs": []
    },
    {
      "cell_type": "code",
      "metadata": {
        "id": "Asi_lwInavCz",
        "colab_type": "code",
        "colab": {}
      },
      "source": [
        "from keras.layers import BatchNormalization\n",
        "\n",
        "def mlp_(input_shape,output_units=10,num_neurons = [512,256,128]):\n",
        "  input_layer = keras.layers.Input(input_shape)\n",
        "\n",
        "  for i , n_units in enumerate(num_neurons):\n",
        "    if i ==0:\n",
        "      x = keras.layers.Dense(units=n_units,activation='relu',name='hidden_layer'+str(i+1))(input_layer)\n",
        "      x = BatchNormalization()(x)\n",
        "    else:\n",
        "      x = keras.layers.Dense(units = n_units,activation='relu',name='hidden_layer'+str(i+1))(x)\n",
        "      x = BatchNormalization()(x)\n",
        "  out = keras.layers.Dense(units=output_units,activation='softmax',name='output')(x)\n",
        "  model = keras.models.Model(inputs=[input_layer],outputs=[out])\n",
        "\n",
        "  return model"
      ],
      "execution_count": 0,
      "outputs": []
    },
    {
      "cell_type": "code",
      "metadata": {
        "id": "Xa4rDeLkcYMM",
        "colab_type": "code",
        "colab": {}
      },
      "source": [
        "learning_rate = 1e-3\n",
        "epochs = 50\n",
        "batch_size = 1024\n",
        "momentum = 0.95\n"
      ],
      "execution_count": 0,
      "outputs": []
    },
    {
      "cell_type": "code",
      "metadata": {
        "id": "uyfFe0IKchiJ",
        "colab_type": "code",
        "colab": {
          "base_uri": "https://localhost:8080/",
          "height": 425
        },
        "outputId": "9ce11fe3-3fe5-41be-c561-bee87253447a"
      },
      "source": [
        "model = mlp_(input_shape=x_train.shape[1:])\n",
        "model.summary()"
      ],
      "execution_count": 10,
      "outputs": [
        {
          "output_type": "stream",
          "text": [
            "Model: \"model_1\"\n",
            "_________________________________________________________________\n",
            "Layer (type)                 Output Shape              Param #   \n",
            "=================================================================\n",
            "input_2 (InputLayer)         (None, 3072)              0         \n",
            "_________________________________________________________________\n",
            "hidden_layer1 (Dense)        (None, 512)               1573376   \n",
            "_________________________________________________________________\n",
            "batch_normalization_4 (Batch (None, 512)               2048      \n",
            "_________________________________________________________________\n",
            "hidden_layer2 (Dense)        (None, 256)               131328    \n",
            "_________________________________________________________________\n",
            "batch_normalization_5 (Batch (None, 256)               1024      \n",
            "_________________________________________________________________\n",
            "hidden_layer3 (Dense)        (None, 128)               32896     \n",
            "_________________________________________________________________\n",
            "batch_normalization_6 (Batch (None, 128)               512       \n",
            "_________________________________________________________________\n",
            "output (Dense)               (None, 10)                1290      \n",
            "=================================================================\n",
            "Total params: 1,742,474\n",
            "Trainable params: 1,740,682\n",
            "Non-trainable params: 1,792\n",
            "_________________________________________________________________\n"
          ],
          "name": "stdout"
        }
      ]
    },
    {
      "cell_type": "code",
      "metadata": {
        "id": "qRBhl4wNco8e",
        "colab_type": "code",
        "colab": {
          "base_uri": "https://localhost:8080/",
          "height": 1000
        },
        "outputId": "1fe0b331-9169-4357-d018-98aad0acc19b"
      },
      "source": [
        "optimizer = keras.optimizers.SGD(lr = learning_rate,nesterov=True,momentum=momentum)\n",
        "model.compile(loss = 'categorical_crossentropy',metrics=['accuracy'],optimizer=optimizer)\n",
        "model.fit(x_train,y_train,epochs=epochs,batch_size=batch_size,validation_data=(x_test,y_test),shuffle=True)"
      ],
      "execution_count": 12,
      "outputs": [
        {
          "output_type": "stream",
          "text": [
            "WARNING:tensorflow:From /usr/local/lib/python3.6/dist-packages/keras/optimizers.py:793: The name tf.train.Optimizer is deprecated. Please use tf.compat.v1.train.Optimizer instead.\n",
            "\n",
            "WARNING:tensorflow:From /usr/local/lib/python3.6/dist-packages/keras/backend/tensorflow_backend.py:3576: The name tf.log is deprecated. Please use tf.math.log instead.\n",
            "\n",
            "WARNING:tensorflow:From /usr/local/lib/python3.6/dist-packages/tensorflow_core/python/ops/math_grad.py:1424: where (from tensorflow.python.ops.array_ops) is deprecated and will be removed in a future version.\n",
            "Instructions for updating:\n",
            "Use tf.where in 2.0, which has the same broadcast rule as np.where\n",
            "WARNING:tensorflow:From /usr/local/lib/python3.6/dist-packages/keras/backend/tensorflow_backend.py:1033: The name tf.assign_add is deprecated. Please use tf.compat.v1.assign_add instead.\n",
            "\n",
            "WARNING:tensorflow:From /usr/local/lib/python3.6/dist-packages/keras/backend/tensorflow_backend.py:1020: The name tf.assign is deprecated. Please use tf.compat.v1.assign instead.\n",
            "\n",
            "WARNING:tensorflow:From /usr/local/lib/python3.6/dist-packages/keras/backend/tensorflow_backend.py:3005: The name tf.Session is deprecated. Please use tf.compat.v1.Session instead.\n",
            "\n",
            "Train on 50000 samples, validate on 10000 samples\n",
            "Epoch 1/50\n",
            "WARNING:tensorflow:From /usr/local/lib/python3.6/dist-packages/keras/backend/tensorflow_backend.py:190: The name tf.get_default_session is deprecated. Please use tf.compat.v1.get_default_session instead.\n",
            "\n",
            "WARNING:tensorflow:From /usr/local/lib/python3.6/dist-packages/keras/backend/tensorflow_backend.py:197: The name tf.ConfigProto is deprecated. Please use tf.compat.v1.ConfigProto instead.\n",
            "\n",
            "WARNING:tensorflow:From /usr/local/lib/python3.6/dist-packages/keras/backend/tensorflow_backend.py:207: The name tf.global_variables is deprecated. Please use tf.compat.v1.global_variables instead.\n",
            "\n",
            "WARNING:tensorflow:From /usr/local/lib/python3.6/dist-packages/keras/backend/tensorflow_backend.py:216: The name tf.is_variable_initialized is deprecated. Please use tf.compat.v1.is_variable_initialized instead.\n",
            "\n",
            "WARNING:tensorflow:From /usr/local/lib/python3.6/dist-packages/keras/backend/tensorflow_backend.py:223: The name tf.variables_initializer is deprecated. Please use tf.compat.v1.variables_initializer instead.\n",
            "\n",
            "50000/50000 [==============================] - 11s 216us/step - loss: 2.1831 - acc: 0.2731 - val_loss: 2.0996 - val_acc: 0.2984\n",
            "Epoch 2/50\n",
            "50000/50000 [==============================] - 9s 181us/step - loss: 1.7333 - acc: 0.3937 - val_loss: 1.8219 - val_acc: 0.3734\n",
            "Epoch 3/50\n",
            "50000/50000 [==============================] - 9s 179us/step - loss: 1.6047 - acc: 0.4365 - val_loss: 1.7180 - val_acc: 0.4047\n",
            "Epoch 4/50\n",
            "50000/50000 [==============================] - 9s 180us/step - loss: 1.5317 - acc: 0.4646 - val_loss: 1.6412 - val_acc: 0.4224\n",
            "Epoch 5/50\n",
            "50000/50000 [==============================] - 9s 179us/step - loss: 1.4780 - acc: 0.4847 - val_loss: 1.5954 - val_acc: 0.4412\n",
            "Epoch 6/50\n",
            "50000/50000 [==============================] - 9s 180us/step - loss: 1.4326 - acc: 0.5001 - val_loss: 1.5736 - val_acc: 0.4497\n",
            "Epoch 7/50\n",
            "50000/50000 [==============================] - 9s 180us/step - loss: 1.3945 - acc: 0.5120 - val_loss: 1.5429 - val_acc: 0.4601\n",
            "Epoch 8/50\n",
            "50000/50000 [==============================] - 9s 180us/step - loss: 1.3585 - acc: 0.5245 - val_loss: 1.5326 - val_acc: 0.4598\n",
            "Epoch 9/50\n",
            "50000/50000 [==============================] - 9s 181us/step - loss: 1.3245 - acc: 0.5365 - val_loss: 1.5170 - val_acc: 0.4689\n",
            "Epoch 10/50\n",
            "50000/50000 [==============================] - 9s 180us/step - loss: 1.2973 - acc: 0.5490 - val_loss: 1.5065 - val_acc: 0.4720\n",
            "Epoch 11/50\n",
            "50000/50000 [==============================] - 9s 179us/step - loss: 1.2690 - acc: 0.5576 - val_loss: 1.4942 - val_acc: 0.4735\n",
            "Epoch 12/50\n",
            "50000/50000 [==============================] - 9s 180us/step - loss: 1.2424 - acc: 0.5681 - val_loss: 1.4937 - val_acc: 0.4740\n",
            "Epoch 13/50\n",
            "50000/50000 [==============================] - 9s 180us/step - loss: 1.2164 - acc: 0.5778 - val_loss: 1.4786 - val_acc: 0.4833\n",
            "Epoch 14/50\n",
            "50000/50000 [==============================] - 9s 179us/step - loss: 1.1913 - acc: 0.5891 - val_loss: 1.4753 - val_acc: 0.4846\n",
            "Epoch 15/50\n",
            "50000/50000 [==============================] - 9s 179us/step - loss: 1.1680 - acc: 0.5960 - val_loss: 1.4741 - val_acc: 0.4845\n",
            "Epoch 16/50\n",
            "50000/50000 [==============================] - 9s 183us/step - loss: 1.1458 - acc: 0.6054 - val_loss: 1.4773 - val_acc: 0.4877\n",
            "Epoch 17/50\n",
            "50000/50000 [==============================] - 9s 181us/step - loss: 1.1246 - acc: 0.6117 - val_loss: 1.4620 - val_acc: 0.4864\n",
            "Epoch 18/50\n",
            "50000/50000 [==============================] - 9s 180us/step - loss: 1.1009 - acc: 0.6205 - val_loss: 1.4679 - val_acc: 0.4861\n",
            "Epoch 19/50\n",
            "50000/50000 [==============================] - 9s 180us/step - loss: 1.0779 - acc: 0.6301 - val_loss: 1.4637 - val_acc: 0.4873\n",
            "Epoch 20/50\n",
            "50000/50000 [==============================] - 9s 181us/step - loss: 1.0566 - acc: 0.6380 - val_loss: 1.4610 - val_acc: 0.4901\n",
            "Epoch 21/50\n",
            "50000/50000 [==============================] - 9s 180us/step - loss: 1.0356 - acc: 0.6467 - val_loss: 1.4643 - val_acc: 0.4934\n",
            "Epoch 22/50\n",
            "50000/50000 [==============================] - 9s 179us/step - loss: 1.0149 - acc: 0.6547 - val_loss: 1.4708 - val_acc: 0.4870\n",
            "Epoch 23/50\n",
            "50000/50000 [==============================] - 9s 180us/step - loss: 0.9946 - acc: 0.6623 - val_loss: 1.4683 - val_acc: 0.4897\n",
            "Epoch 24/50\n",
            "50000/50000 [==============================] - 9s 181us/step - loss: 0.9742 - acc: 0.6700 - val_loss: 1.4731 - val_acc: 0.4896\n",
            "Epoch 25/50\n",
            "50000/50000 [==============================] - 9s 181us/step - loss: 0.9534 - acc: 0.6772 - val_loss: 1.4706 - val_acc: 0.4923\n",
            "Epoch 26/50\n",
            "50000/50000 [==============================] - 9s 180us/step - loss: 0.9332 - acc: 0.6840 - val_loss: 1.4817 - val_acc: 0.4881\n",
            "Epoch 27/50\n",
            "50000/50000 [==============================] - 9s 180us/step - loss: 0.9139 - acc: 0.6927 - val_loss: 1.4695 - val_acc: 0.4939\n",
            "Epoch 28/50\n",
            "50000/50000 [==============================] - 9s 178us/step - loss: 0.8938 - acc: 0.7019 - val_loss: 1.4844 - val_acc: 0.4941\n",
            "Epoch 29/50\n",
            "50000/50000 [==============================] - 9s 178us/step - loss: 0.8737 - acc: 0.7096 - val_loss: 1.4792 - val_acc: 0.4908\n",
            "Epoch 30/50\n",
            "50000/50000 [==============================] - 9s 178us/step - loss: 0.8552 - acc: 0.7168 - val_loss: 1.4865 - val_acc: 0.4882\n",
            "Epoch 31/50\n",
            "50000/50000 [==============================] - 9s 180us/step - loss: 0.8372 - acc: 0.7241 - val_loss: 1.4944 - val_acc: 0.4948\n",
            "Epoch 32/50\n",
            "50000/50000 [==============================] - 9s 180us/step - loss: 0.8176 - acc: 0.7312 - val_loss: 1.5065 - val_acc: 0.4883\n",
            "Epoch 33/50\n",
            "50000/50000 [==============================] - 9s 180us/step - loss: 0.7963 - acc: 0.7388 - val_loss: 1.5145 - val_acc: 0.4852\n",
            "Epoch 34/50\n",
            "50000/50000 [==============================] - 9s 178us/step - loss: 0.7792 - acc: 0.7474 - val_loss: 1.5168 - val_acc: 0.4916\n",
            "Epoch 35/50\n",
            "50000/50000 [==============================] - 9s 178us/step - loss: 0.7589 - acc: 0.7551 - val_loss: 1.5261 - val_acc: 0.4864\n",
            "Epoch 36/50\n",
            "50000/50000 [==============================] - 9s 180us/step - loss: 0.7394 - acc: 0.7639 - val_loss: 1.5334 - val_acc: 0.4884\n",
            "Epoch 37/50\n",
            "50000/50000 [==============================] - 9s 180us/step - loss: 0.7197 - acc: 0.7712 - val_loss: 1.5393 - val_acc: 0.4868\n",
            "Epoch 38/50\n",
            "50000/50000 [==============================] - 9s 178us/step - loss: 0.7027 - acc: 0.7774 - val_loss: 1.5591 - val_acc: 0.4864\n",
            "Epoch 39/50\n",
            "50000/50000 [==============================] - 9s 179us/step - loss: 0.6837 - acc: 0.7847 - val_loss: 1.5583 - val_acc: 0.4884\n",
            "Epoch 40/50\n",
            "50000/50000 [==============================] - 9s 178us/step - loss: 0.6649 - acc: 0.7935 - val_loss: 1.5809 - val_acc: 0.4872\n",
            "Epoch 41/50\n",
            "50000/50000 [==============================] - 9s 180us/step - loss: 0.6481 - acc: 0.7986 - val_loss: 1.5778 - val_acc: 0.4864\n",
            "Epoch 42/50\n",
            "50000/50000 [==============================] - 9s 178us/step - loss: 0.6309 - acc: 0.8067 - val_loss: 1.5730 - val_acc: 0.4878\n",
            "Epoch 43/50\n",
            "50000/50000 [==============================] - 9s 180us/step - loss: 0.6115 - acc: 0.8144 - val_loss: 1.5920 - val_acc: 0.4929\n",
            "Epoch 44/50\n",
            "50000/50000 [==============================] - 9s 180us/step - loss: 0.5949 - acc: 0.8194 - val_loss: 1.6451 - val_acc: 0.4792\n",
            "Epoch 45/50\n",
            "50000/50000 [==============================] - 9s 179us/step - loss: 0.5777 - acc: 0.8280 - val_loss: 1.6340 - val_acc: 0.4842\n",
            "Epoch 46/50\n",
            "50000/50000 [==============================] - 9s 179us/step - loss: 0.5616 - acc: 0.8343 - val_loss: 1.6304 - val_acc: 0.4885\n",
            "Epoch 47/50\n",
            "50000/50000 [==============================] - 9s 180us/step - loss: 0.5431 - acc: 0.8409 - val_loss: 1.6415 - val_acc: 0.4876\n",
            "Epoch 48/50\n",
            "50000/50000 [==============================] - 9s 178us/step - loss: 0.5279 - acc: 0.8471 - val_loss: 1.6537 - val_acc: 0.4858\n",
            "Epoch 49/50\n",
            "50000/50000 [==============================] - 9s 178us/step - loss: 0.5121 - acc: 0.8536 - val_loss: 1.6587 - val_acc: 0.4878\n",
            "Epoch 50/50\n",
            "50000/50000 [==============================] - 9s 179us/step - loss: 0.4954 - acc: 0.8601 - val_loss: 1.7048 - val_acc: 0.4788\n"
          ],
          "name": "stdout"
        },
        {
          "output_type": "execute_result",
          "data": {
            "text/plain": [
              "<keras.callbacks.History at 0x7f44b83c45f8>"
            ]
          },
          "metadata": {
            "tags": []
          },
          "execution_count": 12
        }
      ]
    },
    {
      "cell_type": "code",
      "metadata": {
        "id": "F9B1WESLelU6",
        "colab_type": "code",
        "colab": {}
      },
      "source": [
        "train_loss = model.history.history['loss']\n",
        "valid_loss = model.history.history['val_loss']\n",
        "train_acc = model.history.history['acc']\n",
        "valid_acc = model.history.history['val_acc']"
      ],
      "execution_count": 0,
      "outputs": []
    },
    {
      "cell_type": "code",
      "metadata": {
        "id": "Y_F89HUae59L",
        "colab_type": "code",
        "colab": {
          "base_uri": "https://localhost:8080/",
          "height": 545
        },
        "outputId": "4cb0c9f6-1f71-4dd4-acbb-b2800c2192ba"
      },
      "source": [
        "import matplotlib.pyplot as plt\n",
        "%matplotlib inline\n",
        "\n",
        "plt.plot(range(len(train_loss)), train_loss, label=\"train loss\")\n",
        "plt.plot(range(len(valid_loss)), valid_loss, label=\"valid loss\")\n",
        "plt.legend()\n",
        "plt.title(\"Loss\")\n",
        "plt.show()\n",
        "\n",
        "plt.plot(range(len(train_acc)), train_acc, label=\"train accuracy\")\n",
        "plt.plot(range(len(valid_acc)), valid_acc, label=\"valid accuracy\")\n",
        "plt.legend()\n",
        "plt.title(\"Accuracy\")\n",
        "plt.show()"
      ],
      "execution_count": 16,
      "outputs": [
        {
          "output_type": "display_data",
          "data": {
            "image/png": "[encoded data removed]",
            "text/plain": [
              "<Figure size 432x288 with 1 Axes>"
            ]
          },
          "metadata": {
            "tags": []
          }
        },
        {
          "output_type": "display_data",
          "data": {
            "image/png": "[encoded data removed]",
            "text/plain": [
              "<Figure size 432x288 with 1 Axes>"
            ]
          },
          "metadata": {
            "tags": []
          }
        }
      ]
    },
    {
      "cell_type": "code",
      "metadata": {
        "id": "UWK63vMShDfW",
        "colab_type": "code",
        "colab": {}
      },
      "source": [
        ""
      ],
      "execution_count": 0,
      "outputs": []
    }
  ]
}