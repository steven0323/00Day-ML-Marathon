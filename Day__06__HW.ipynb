{
 "cells": [
  {
   "cell_type": "code",
   "execution_count": 15,
   "metadata": {},
   "outputs": [
    {
     "name": "stdout",
     "output_type": "stream",
     "text": [
      "(307511, 7)\n",
      "   FRIDAY  MONDAY  SATURDAY  SUNDAY  THURSDAY  TUESDAY  WEDNESDAY\n",
      "0       0       0         0       0         0        0          1\n",
      "1       0       1         0       0         0        0          0\n",
      "2       0       1         0       0         0        0          0\n",
      "3       0       0         0       0         0        0          1\n",
      "4       0       0         0       0         1        0          0\n"
     ]
    }
   ],
   "source": [
    "import os\n",
    "import pandas as pd\n",
    "import numpy as np\n",
    "\n",
    "f_app_train = os.path.expanduser('~/Desktop/ML Challenge/application_train.csv')\n",
    "app_train = pd.read_csv(f_app_train)\n",
    "\n",
    "\n",
    "sub_train = pd.get_dummies(app_train['WEEKDAY_APPR_PROCESS_START'])\n",
    "#print(sub_train.shape)\n",
    "#sub_train.head()\n",
    "\n",
    "\n",
    "#one hot encoding\n",
    "print(sub_train.shape)\n",
    "print(sub_train.head())"
   ]
  },
  {
   "cell_type": "code",
   "execution_count": null,
   "metadata": {},
   "outputs": [],
   "source": []
  }
 ],
 "metadata": {
  "kernelspec": {
   "display_name": "Python 3",
   "language": "python",
   "name": "python3"
  },
  "language_info": {
   "codemirror_mode": {
    "name": "ipython",
    "version": 3
   },
   "file_extension": ".py",
   "mimetype": "text/x-python",
   "name": "python",
   "nbconvert_exporter": "python",
   "pygments_lexer": "ipython3",
   "version": "3.7.3"
  }
 },
 "nbformat": 4,
 "nbformat_minor": 2
}
