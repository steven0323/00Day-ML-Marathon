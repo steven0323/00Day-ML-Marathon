{
 "cells": [
  {
   "cell_type": "code",
   "execution_count": 19,
   "metadata": {},
   "outputs": [
    {
     "name": "stdout",
     "output_type": "stream",
     "text": [
      "Country\n",
      "China     54430618\n",
      "Japan     99592063\n",
      "Taiwan    62882847\n",
      "Name: Population, dtype: int64\n"
     ]
    }
   ],
   "source": [
    "import pandas as pd\n",
    "import numpy as np\n",
    "\n",
    "\n",
    "data = {'Country':['Japan','Taiwan','China'],'Population':[np.random.randint(low=1,high=100000000,size=1),np.random.randint(low=1,high=100000000,size=1),np.random.randint(low=1,high=100000000,size=1)]}\n",
    "task = pd.DataFrame(data)\n",
    "#print(task)\n",
    "print(task.groupby(by='Country')['Population'].max())\n"
   ]
  },
  {
   "cell_type": "code",
   "execution_count": null,
   "metadata": {},
   "outputs": [],
   "source": []
  }
 ],
 "metadata": {
  "kernelspec": {
   "display_name": "Python 3",
   "language": "python",
   "name": "python3"
  },
  "language_info": {
   "codemirror_mode": {
    "name": "ipython",
    "version": 3
   },
   "file_extension": ".py",
   "mimetype": "text/x-python",
   "name": "python",
   "nbconvert_exporter": "python",
   "pygments_lexer": "ipython3",
   "version": "3.7.3"
  }
 },
 "nbformat": 4,
 "nbformat_minor": 2
}
