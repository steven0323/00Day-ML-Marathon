{
  "nbformat": 4,
  "nbformat_minor": 0,
  "metadata": {
    "colab": {
      "name": "Day___96___.ipynb",
      "provenance": []
    },
    "kernelspec": {
      "name": "python3",
      "display_name": "Python 3"
    }
  },
  "cells": [
    {
      "cell_type": "code",
      "metadata": {
        "id": "lq7gmoDlE4Wf",
        "colab_type": "code",
        "colab": {
          "base_uri": "https://localhost:8080/",
          "height": 255
        },
        "outputId": "12a1bbe2-35f8-496a-d22f-b3a2f3885f41"
      },
      "source": [
        "from keras.layers import Conv2D, SeparableConv2D,Input\n",
        "from keras.models import Model\n",
        "\n",
        "input_image = Input((224,224,3))\n",
        "feature_maps = Conv2D(filters=32,kernel_size=(3,3))(input_image)\n",
        "feature_maps2 = Conv2D(filters=64, kernel_size=(3,3))(feature_maps)\n",
        "model = Model(inputs=input_image, outputs = feature_maps2)\n",
        "model.summary()"
      ],
      "execution_count": 2,
      "outputs": [
        {
          "output_type": "stream",
          "text": [
            "Model: \"model_1\"\n",
            "_________________________________________________________________\n",
            "Layer (type)                 Output Shape              Param #   \n",
            "=================================================================\n",
            "input_2 (InputLayer)         (None, 224, 224, 3)       0         \n",
            "_________________________________________________________________\n",
            "conv2d_3 (Conv2D)            (None, 222, 222, 32)      896       \n",
            "_________________________________________________________________\n",
            "conv2d_4 (Conv2D)            (None, 220, 220, 64)      18496     \n",
            "=================================================================\n",
            "Total params: 19,392\n",
            "Trainable params: 19,392\n",
            "Non-trainable params: 0\n",
            "_________________________________________________________________\n"
          ],
          "name": "stdout"
        }
      ]
    },
    {
      "cell_type": "code",
      "metadata": {
        "id": "qlZZw4fSFuQS",
        "colab_type": "code",
        "colab": {
          "base_uri": "https://localhost:8080/",
          "height": 255
        },
        "outputId": "bc493e84-7e87-43d2-c50b-fa0f269f72cd"
      },
      "source": [
        "nput_image = Input((224, 224, 3))\n",
        "feature_maps = SeparableConv2D(filters=32, kernel_size=(3,3))(input_image)\n",
        "feature_maps2 = SeparableConv2D(filters=64, kernel_size=(3,3))(feature_maps)\n",
        "model = Model(inputs=input_image, outputs=feature_maps2)\n",
        "model.summary()"
      ],
      "execution_count": 4,
      "outputs": [
        {
          "output_type": "stream",
          "text": [
            "Model: \"model_2\"\n",
            "_________________________________________________________________\n",
            "Layer (type)                 Output Shape              Param #   \n",
            "=================================================================\n",
            "input_3 (InputLayer)         (None, 224, 224, 3)       0         \n",
            "_________________________________________________________________\n",
            "separable_conv2d_3 (Separabl (None, 222, 222, 32)      155       \n",
            "_________________________________________________________________\n",
            "separable_conv2d_4 (Separabl (None, 220, 220, 64)      2400      \n",
            "=================================================================\n",
            "Total params: 2,555\n",
            "Trainable params: 2,555\n",
            "Non-trainable params: 0\n",
            "_________________________________________________________________\n"
          ],
          "name": "stdout"
        }
      ]
    },
    {
      "cell_type": "code",
      "metadata": {
        "id": "NuUaWwYHGj8H",
        "colab_type": "code",
        "colab": {}
      },
      "source": [
        ""
      ],
      "execution_count": 0,
      "outputs": []
    }
  ]
}