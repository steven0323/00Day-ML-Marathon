{
 "cells": [
  {
   "cell_type": "code",
   "execution_count": 21,
   "metadata": {},
   "outputs": [
    {
     "data": {
      "text/plain": [
       "Name        1307\n",
       "Sex            2\n",
       "Ticket       929\n",
       "Cabin        186\n",
       "Embarked       3\n",
       "dtype: int64"
      ]
     },
     "execution_count": 21,
     "metadata": {},
     "output_type": "execute_result"
    }
   ],
   "source": [
    "import pandas as pd\n",
    "import numpy as np\n",
    "import os\n",
    "#read in file from desktop\n",
    "f_train = os.path.expanduser('~/Desktop/titanic_train.csv')\n",
    "f_test =  os.path.expanduser('~/Desktop/titanic_test.csv')\n",
    "df_train = pd.read_csv(f_train)\n",
    "df_test = pd.read_csv(f_test)\n",
    "\n",
    "train_y = df_train['Survived']\n",
    "ids = df_test['PassengerId']\n",
    "df_train = df_train.drop(['PassengerId','Survived'],axis=1)\n",
    "df_test = df_test.drop(['PassengerId'],axis=1)\n",
    "df = pd.concat([df_train,df_test])\n",
    "df.head()\n",
    "\n",
    "dtype_df = df.dtypes.reset_index()\n",
    "dtype_df.columns = [\"Count\", \"Column Type\"]\n",
    "dtype_df = dtype_df.groupby(\"Column Type\").aggregate('count').reset_index()\n",
    "dtype_df\n",
    "\n",
    "int_features = []\n",
    "float_features = []\n",
    "object_features = []\n",
    "for dtype, feature in zip(df.dtypes, df.columns):\n",
    "    if dtype == 'float64':\n",
    "        float_features.append(feature)\n",
    "    elif dtype == 'int64':\n",
    "        int_features.append(feature)\n",
    "    else:\n",
    "        object_features.append(feature)\n",
    "#print(f'{len(int_features)} Integer Features : {int_features}\\n')\n",
    "#print(f'{len(float_features)} Float Features : {float_features}\\n')\n",
    "#print(f'{len(object_features)} Object Features : {object_features}')\n",
    "\n",
    "df[int_features].mean()\n",
    "df[int_features].max()\n",
    "df[int_features].nunique()\n",
    "\n",
    "df[float_features].mean()\n",
    "df[float_features].max()\n",
    "df[float_features].nunique()\n",
    "\n",
    "df[object_features].mean()\n",
    "df[object_features].max()\n",
    "df[object_features].nunique()\n"
   ]
  },
  {
   "cell_type": "code",
   "execution_count": null,
   "metadata": {},
   "outputs": [],
   "source": []
  },
  {
   "cell_type": "code",
   "execution_count": null,
   "metadata": {},
   "outputs": [],
   "source": []
  }
 ],
 "metadata": {
  "kernelspec": {
   "display_name": "Python 3",
   "language": "python",
   "name": "python3"
  },
  "language_info": {
   "codemirror_mode": {
    "name": "ipython",
    "version": 3
   },
   "file_extension": ".py",
   "mimetype": "text/x-python",
   "name": "python",
   "nbconvert_exporter": "python",
   "pygments_lexer": "ipython3",
   "version": "3.7.3"
  }
 },
 "nbformat": 4,
 "nbformat_minor": 2
}
