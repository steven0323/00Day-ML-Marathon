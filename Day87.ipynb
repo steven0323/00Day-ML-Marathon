{
  "nbformat": 4,
  "nbformat_minor": 0,
  "metadata": {
    "colab": {
      "name": "Day87.ipynb",
      "provenance": [],
      "collapsed_sections": []
    },
    "kernelspec": {
      "name": "python3",
      "display_name": "Python 3"
    }
  },
  "cells": [
    {
      "cell_type": "code",
      "metadata": {
        "id": "sUJQm389wAs3",
        "colab_type": "code",
        "colab": {
          "base_uri": "https://localhost:8080/",
          "height": 80
        },
        "outputId": "2420eab8-819c-4aea-e895-c2b17b14b827"
      },
      "source": [
        "import os\n",
        "import keras"
      ],
      "execution_count": 1,
      "outputs": [
        {
          "output_type": "stream",
          "text": [
            "Using TensorFlow backend.\n"
          ],
          "name": "stderr"
        },
        {
          "output_type": "display_data",
          "data": {
            "text/html": [
              "<p style=\"color: red;\">\n",
              "The default version of TensorFlow in Colab will soon switch to TensorFlow 2.x.<br>\n",
              "We recommend you <a href=\"https://www.tensorflow.org/guide/migrate\" target=\"_blank\">upgrade</a> now \n",
              "or ensure your notebook will continue to use TensorFlow 1.x via the <code>%tensorflow_version 1.x</code> magic:\n",
              "<a href=\"https://colab.research.google.com/notebooks/tensorflow_version.ipynb\" target=\"_blank\">more info</a>.</p>\n"
            ],
            "text/plain": [
              "<IPython.core.display.HTML object>"
            ]
          },
          "metadata": {
            "tags": []
          }
        }
      ]
    },
    {
      "cell_type": "code",
      "metadata": {
        "id": "Ua2OZWx0wJqy",
        "colab_type": "code",
        "colab": {
          "base_uri": "https://localhost:8080/",
          "height": 51
        },
        "outputId": "5441088c-50ce-4fed-f25b-3e69d697ef39"
      },
      "source": [
        "train,test = keras.datasets.cifar10.load_data()"
      ],
      "execution_count": 3,
      "outputs": [
        {
          "output_type": "stream",
          "text": [
            "Downloading data from https://www.cs.toronto.edu/~kriz/cifar-10-python.tar.gz\n",
            "170500096/170498071 [==============================] - 4s 0us/step\n"
          ],
          "name": "stdout"
        }
      ]
    },
    {
      "cell_type": "code",
      "metadata": {
        "id": "4W9v0tRmwNUO",
        "colab_type": "code",
        "colab": {
          "base_uri": "https://localhost:8080/",
          "height": 153
        },
        "outputId": "248b2d26-3657-4846-c4e2-b283fdd48d58"
      },
      "source": [
        "def preprocessing_x(x,flatten=True):\n",
        "  x = x / 255\n",
        "  if flatten:\n",
        "    x = x .reshape((len(x),-1))\n",
        "  return x\n",
        "\n",
        "\n",
        "def preprocessing_y(y,num_classes=10):\n",
        "  if y.shape[-1] == 1:\n",
        "    y = keras.utils.to_categorical(y,num_classes)\n",
        "  \n",
        "\n",
        "  return y\n",
        "\n",
        "x_train, y_train = train\n",
        "x_test, y_test = test\n",
        "\n",
        "# 資料前處理 - X 標準化\n",
        "x_train = preprocessing_x(x_train)\n",
        "x_test = preprocessing_x(x_test)\n",
        "\n",
        "# 資料前處理 -Y 轉成 onehot\n",
        "print(y_train[:1])\n",
        "y_train = preprocessing_y(y_train)\n",
        "\n",
        "print(y_train)\n",
        "y_test = preprocessing_y(y_test)"
      ],
      "execution_count": 9,
      "outputs": [
        {
          "output_type": "stream",
          "text": [
            "[[6]]\n",
            "[[0. 0. 0. ... 0. 0. 0.]\n",
            " [0. 0. 0. ... 0. 0. 1.]\n",
            " [0. 0. 0. ... 0. 0. 1.]\n",
            " ...\n",
            " [0. 0. 0. ... 0. 0. 1.]\n",
            " [0. 1. 0. ... 0. 0. 0.]\n",
            " [0. 1. 0. ... 0. 0. 0.]]\n"
          ],
          "name": "stdout"
        }
      ]
    },
    {
      "cell_type": "code",
      "metadata": {
        "id": "eCmt9O1gw1TQ",
        "colab_type": "code",
        "colab": {}
      },
      "source": [
        "from keras.layers import BatchNormalization\n",
        "\n",
        "\"\"\"\n",
        "建立神經網路，並加入 BN layer\n",
        "\"\"\"\n",
        "def build_mlp(input_shape, output_units=10, num_neurons=[512, 256, 128]):\n",
        "    input_layer = keras.layers.Input(input_shape)\n",
        "    \n",
        "    for i, n_units in enumerate(num_neurons):\n",
        "        if i == 0:\n",
        "            x = keras.layers.Dense(units=n_units, \n",
        "                                   activation=\"relu\", \n",
        "                                   name=\"hidden_layer\"+str(i+1))(input_layer)\n",
        "            x = BatchNormalization()(x)\n",
        "        else:\n",
        "            x = keras.layers.Dense(units=n_units, \n",
        "                                   activation=\"relu\", \n",
        "                                   name=\"hidden_layer\"+str(i+1))(x)\n",
        "            x = BatchNormalization()(x)\n",
        "    \n",
        "    out = keras.layers.Dense(units=output_units, activation=\"softmax\", name=\"output\")(x)\n",
        "    \n",
        "    model = keras.models.Model(inputs=[input_layer], outputs=[out])\n",
        "    return model\n"
      ],
      "execution_count": 0,
      "outputs": []
    },
    {
      "cell_type": "code",
      "metadata": {
        "id": "R4BG7eImysPz",
        "colab_type": "code",
        "colab": {}
      },
      "source": [
        "## 超參數設定\n",
        "LEARNING_RATE = 1e-3\n",
        "EPOCHS = 50\n",
        "BATCH_SIZE = 1024\n",
        "MOMENTUM = 0.95"
      ],
      "execution_count": 0,
      "outputs": []
    },
    {
      "cell_type": "code",
      "metadata": {
        "id": "3GHh61X7yuEg",
        "colab_type": "code",
        "colab": {}
      },
      "source": [
        "\"\"\"\n",
        "# 載入 Callbacks, 並設定監控目標為 validation loss\n",
        "\"\"\"\n",
        "from keras.callbacks import ReduceLROnPlateau\n",
        "\n",
        "reduce_lr = ReduceLROnPlateau(factor=0.5, \n",
        "                              min_lr=1e-12, \n",
        "                              monitor='val_loss', \n",
        "                              patience=5, \n",
        "                              verbose=1)"
      ],
      "execution_count": 0,
      "outputs": []
    },
    {
      "cell_type": "code",
      "metadata": {
        "id": "kGeqhOtayvkv",
        "colab_type": "code",
        "colab": {
          "base_uri": "https://localhost:8080/",
          "height": 1000
        },
        "outputId": "a0d4eef1-7c31-44d3-afe1-d1e0f5582873"
      },
      "source": [
        "model = build_mlp(input_shape=x_train.shape[1:])\n",
        "model.summary()\n",
        "optimizer = keras.optimizers.Adam(lr=0.001, beta_1=0.9, beta_2=0.999, amsgrad=False)\n",
        "model.compile(loss=\"categorical_crossentropy\", metrics=[\"accuracy\"], optimizer=optimizer)\n",
        "\n",
        "model.fit(x_train, y_train, \n",
        "          epochs=EPOCHS, \n",
        "          batch_size=BATCH_SIZE, \n",
        "          validation_data=(x_test, y_test), \n",
        "          shuffle=True,\n",
        "          callbacks=[reduce_lr]\n",
        "         )\n",
        "\n",
        "# Collect results\n",
        "train_loss = model.history.history[\"loss\"]\n",
        "valid_loss = model.history.history[\"val_loss\"]\n",
        "train_acc = model.history.history[\"acc\"]\n",
        "valid_acc = model.history.history[\"val_acc\"]"
      ],
      "execution_count": 0,
      "outputs": [
        {
          "output_type": "stream",
          "text": [
            "Model: \"model_5\"\n",
            "_________________________________________________________________\n",
            "Layer (type)                 Output Shape              Param #   \n",
            "=================================================================\n",
            "input_9 (InputLayer)         (None, 3072)              0         \n",
            "_________________________________________________________________\n",
            "hidden_layer1 (Dense)        (None, 512)               1573376   \n",
            "_________________________________________________________________\n",
            "batch_normalization_13 (Batc (None, 512)               2048      \n",
            "_________________________________________________________________\n",
            "hidden_layer2 (Dense)        (None, 256)               131328    \n",
            "_________________________________________________________________\n",
            "batch_normalization_14 (Batc (None, 256)               1024      \n",
            "_________________________________________________________________\n",
            "hidden_layer3 (Dense)        (None, 128)               32896     \n",
            "_________________________________________________________________\n",
            "batch_normalization_15 (Batc (None, 128)               512       \n",
            "_________________________________________________________________\n",
            "output (Dense)               (None, 10)                1290      \n",
            "=================================================================\n",
            "Total params: 1,742,474\n",
            "Trainable params: 1,740,682\n",
            "Non-trainable params: 1,792\n",
            "_________________________________________________________________\n",
            "Train on 50000 samples, validate on 10000 samples\n",
            "Epoch 1/50\n",
            "50000/50000 [==============================] - 11s 224us/step - loss: 1.7641 - acc: 0.3849 - val_loss: 1.8186 - val_acc: 0.3671\n",
            "Epoch 2/50\n",
            "50000/50000 [==============================] - 9s 188us/step - loss: 1.4901 - acc: 0.4754 - val_loss: 1.7785 - val_acc: 0.3691\n",
            "Epoch 3/50\n",
            "50000/50000 [==============================] - 9s 187us/step - loss: 1.3810 - acc: 0.5136 - val_loss: 1.7625 - val_acc: 0.3791\n",
            "Epoch 4/50\n",
            "50000/50000 [==============================] - 9s 189us/step - loss: 1.3049 - acc: 0.5374 - val_loss: 1.9731 - val_acc: 0.3204\n",
            "Epoch 5/50\n",
            "50000/50000 [==============================] - 9s 189us/step - loss: 1.2435 - acc: 0.5591 - val_loss: 2.1089 - val_acc: 0.3491\n",
            "Epoch 6/50\n",
            "50000/50000 [==============================] - 10s 192us/step - loss: 1.1861 - acc: 0.5814 - val_loss: 1.9249 - val_acc: 0.3591\n",
            "Epoch 7/50\n",
            "50000/50000 [==============================] - 9s 189us/step - loss: 1.1335 - acc: 0.6028 - val_loss: 2.0622 - val_acc: 0.3379\n",
            "Epoch 8/50\n",
            "50000/50000 [==============================] - 9s 189us/step - loss: 1.0868 - acc: 0.6160 - val_loss: 2.2808 - val_acc: 0.3032\n",
            "\n",
            "Epoch 00008: ReduceLROnPlateau reducing learning rate to 0.0005000000237487257.\n",
            "Epoch 9/50\n",
            "50000/50000 [==============================] - 9s 187us/step - loss: 0.9885 - acc: 0.6568 - val_loss: 1.5722 - val_acc: 0.4468\n",
            "Epoch 10/50\n",
            "50000/50000 [==============================] - 9s 187us/step - loss: 0.9335 - acc: 0.6769 - val_loss: 1.5289 - val_acc: 0.4708\n",
            "Epoch 11/50\n",
            "50000/50000 [==============================] - 9s 187us/step - loss: 0.8969 - acc: 0.6887 - val_loss: 1.5568 - val_acc: 0.4505\n",
            "Epoch 12/50\n",
            "50000/50000 [==============================] - 9s 188us/step - loss: 0.8657 - acc: 0.7013 - val_loss: 1.5047 - val_acc: 0.4787\n",
            "Epoch 13/50\n",
            "50000/50000 [==============================] - 9s 188us/step - loss: 0.8272 - acc: 0.7140 - val_loss: 1.5703 - val_acc: 0.4646\n",
            "Epoch 14/50\n",
            "50000/50000 [==============================] - 9s 188us/step - loss: 0.7968 - acc: 0.7260 - val_loss: 1.6099 - val_acc: 0.4616\n",
            "Epoch 15/50\n",
            "50000/50000 [==============================] - 9s 189us/step - loss: 0.7627 - acc: 0.7392 - val_loss: 1.5272 - val_acc: 0.4787\n",
            "Epoch 16/50\n",
            "50000/50000 [==============================] - 9s 188us/step - loss: 0.7239 - acc: 0.7545 - val_loss: 1.6379 - val_acc: 0.4858\n",
            "Epoch 17/50\n",
            "50000/50000 [==============================] - 9s 188us/step - loss: 0.6937 - acc: 0.7664 - val_loss: 1.6087 - val_acc: 0.4735\n",
            "\n",
            "Epoch 00017: ReduceLROnPlateau reducing learning rate to 0.0002500000118743628.\n",
            "Epoch 18/50\n",
            "50000/50000 [==============================] - 9s 187us/step - loss: 0.6069 - acc: 0.8039 - val_loss: 1.5497 - val_acc: 0.4930\n",
            "Epoch 19/50\n",
            "50000/50000 [==============================] - 9s 189us/step - loss: 0.5637 - acc: 0.8237 - val_loss: 1.5170 - val_acc: 0.5005\n",
            "Epoch 20/50\n",
            "50000/50000 [==============================] - 9s 188us/step - loss: 0.5415 - acc: 0.8298 - val_loss: 1.5079 - val_acc: 0.5144\n",
            "Epoch 21/50\n",
            "50000/50000 [==============================] - 9s 189us/step - loss: 0.5162 - acc: 0.8393 - val_loss: 1.5525 - val_acc: 0.5058\n",
            "Epoch 22/50\n",
            "50000/50000 [==============================] - 9s 188us/step - loss: 0.4985 - acc: 0.8470 - val_loss: 1.5825 - val_acc: 0.5010\n",
            "\n",
            "Epoch 00022: ReduceLROnPlateau reducing learning rate to 0.0001250000059371814.\n",
            "Epoch 23/50\n",
            "50000/50000 [==============================] - 9s 188us/step - loss: 0.4454 - acc: 0.8717 - val_loss: 1.5116 - val_acc: 0.5205\n",
            "Epoch 24/50\n",
            "50000/50000 [==============================] - 9s 188us/step - loss: 0.4233 - acc: 0.8815 - val_loss: 1.5781 - val_acc: 0.5119\n",
            "Epoch 25/50\n",
            "50000/50000 [==============================] - 9s 188us/step - loss: 0.4105 - acc: 0.8868 - val_loss: 1.5638 - val_acc: 0.5185\n",
            "Epoch 26/50\n",
            "50000/50000 [==============================] - 9s 189us/step - loss: 0.3971 - acc: 0.8916 - val_loss: 1.5957 - val_acc: 0.5166\n",
            "Epoch 27/50\n",
            "50000/50000 [==============================] - 9s 188us/step - loss: 0.3849 - acc: 0.8969 - val_loss: 1.6096 - val_acc: 0.5156\n",
            "\n",
            "Epoch 00027: ReduceLROnPlateau reducing learning rate to 6.25000029685907e-05.\n",
            "Epoch 28/50\n",
            "13312/50000 [======>.......................] - ETA: 6s - loss: 0.3522 - acc: 0.9114"
          ],
          "name": "stdout"
        }
      ]
    },
    {
      "cell_type": "code",
      "metadata": {
        "id": "_TZ065KByye-",
        "colab_type": "code",
        "colab": {}
      },
      "source": [
        "import matplotlib.pyplot as plt\n",
        "%matplotlib inline\n",
        "\n",
        "plt.plot(range(len(train_loss)), train_loss, label=\"train loss\")\n",
        "plt.plot(range(len(valid_loss)), valid_loss, label=\"valid loss\")\n",
        "plt.legend()\n",
        "plt.title(\"Loss\")\n",
        "plt.show()\n",
        "\n",
        "plt.plot(range(len(train_acc)), train_acc, label=\"train accuracy\")\n",
        "plt.plot(range(len(valid_acc)), valid_acc, label=\"valid accuracy\")\n",
        "plt.legend()\n",
        "plt.title(\"Accuracy\")\n",
        "plt.show()"
      ],
      "execution_count": 0,
      "outputs": []
    }
  ]
}