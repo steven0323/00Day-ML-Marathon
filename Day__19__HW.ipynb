{
 "cells": [
  {
   "cell_type": "code",
   "execution_count": 25,
   "metadata": {},
   "outputs": [
    {
     "name": "stdout",
     "output_type": "stream",
     "text": [
      "(45000.0, 490000.0]       143942\n",
      "(490000.0, 935000.0]      106958\n",
      "(935000.0, 1380000.0]      43012\n",
      "(1380000.0, 1825000.0]     10210\n",
      "(1825000.0, 2270000.0]      2580\n",
      "(2270000.0, 2715000.0]       535\n",
      "(2715000.0, 3160000.0]        24\n",
      "(3605000.0, 4050000.0]        12\n",
      "(3160000.0, 3605000.0]         8\n",
      "Name: amt_div, dtype: int64\n"
     ]
    },
    {
     "ename": "NameError",
     "evalue": "name 'year_group_sorted' is not defined",
     "output_type": "error",
     "traceback": [
      "\u001b[0;31m---------------------------------------------------------------------------\u001b[0m",
      "\u001b[0;31mNameError\u001b[0m                                 Traceback (most recent call last)",
      "\u001b[0;32m<ipython-input-25-550d80527cdf>\u001b[0m in \u001b[0;36m<module>\u001b[0;34m\u001b[0m\n\u001b[1;32m     31\u001b[0m \u001b[0;32mfor\u001b[0m \u001b[0mi\u001b[0m \u001b[0;32min\u001b[0m \u001b[0mrange\u001b[0m\u001b[0;34m(\u001b[0m\u001b[0mlen\u001b[0m\u001b[0;34m(\u001b[0m\u001b[0mhw_data\u001b[0m\u001b[0;34m[\u001b[0m\u001b[0;34m'amt_div'\u001b[0m\u001b[0;34m]\u001b[0m\u001b[0;34m)\u001b[0m\u001b[0;34m)\u001b[0m\u001b[0;34m:\u001b[0m\u001b[0;34m\u001b[0m\u001b[0;34m\u001b[0m\u001b[0m\n\u001b[1;32m     32\u001b[0m     \u001b[0mplt\u001b[0m\u001b[0;34m.\u001b[0m\u001b[0msubplot\u001b[0m\u001b[0;34m(\u001b[0m\u001b[0mnrows\u001b[0m\u001b[0;34m,\u001b[0m\u001b[0mncols\u001b[0m\u001b[0;34m,\u001b[0m\u001b[0mi\u001b[0m\u001b[0;34m+\u001b[0m\u001b[0;36m1\u001b[0m\u001b[0;34m)\u001b[0m\u001b[0;34m\u001b[0m\u001b[0;34m\u001b[0m\u001b[0m\n\u001b[0;32m---> 33\u001b[0;31m     sns.distplot(hw_data.loc[(hw_data['amt_div'] == year_group_sorted[i]) & \\\n\u001b[0m\u001b[1;32m     34\u001b[0m                               (hw_data['HOUSETYPE_MODE'] == 'block of flats' ), 'AMT_CREDIT'], label = 'House_type = block of flats',hist = False)\n\u001b[1;32m     35\u001b[0m \u001b[0;34m\u001b[0m\u001b[0m\n",
      "\u001b[0;31mNameError\u001b[0m: name 'year_group_sorted' is not defined"
     ]
    },
    {
     "data": {
      "image/png": "[encoded data removed]",
      "text/plain": [
       "<Figure size 720x2160 with 1 Axes>"
      ]
     },
     "metadata": {},
     "output_type": "display_data"
    }
   ],
   "source": [
    "import os\n",
    "import numpy as np\n",
    "import pandas as pd\n",
    "import matplotlib.pyplot as plt\n",
    "import seaborn as sns\n",
    "\n",
    "%matplotlib inline\n",
    "plt.style.use('ggplot')\n",
    "import warnings\n",
    "warnings.filterwarnings('ignore')\n",
    "\n",
    "f_app = os.path.expanduser('~/Desktop/application_train.csv')\n",
    "app_train = pd.read_csv(f_app)\n",
    "app_train['HOUSETYPE_MODE'].fillna('normal')\n",
    "\n",
    "\n",
    "#subset\n",
    "hw_data = app_train[['HOUSETYPE_MODE','AMT_CREDIT']]\n",
    "#print(app_train['AMT_CREDIT'].max())\n",
    "#print(app_train['AMT_CREDIT'].min())\n",
    "\n",
    "hw_data['amt_div'] = pd.cut(hw_data['AMT_CREDIT'],bins = np.linspace(45000,4050000,num = 10))\n",
    "print(hw_data['amt_div'].value_counts())\n",
    "hw_data.head()\n",
    "#amt_data_sort = np.sort(hw_data['amt_div'].unique())\n",
    "\n",
    "\n",
    "nrows = 5\n",
    "ncols = 2\n",
    "plt.figure(figsize = (10,30))\n",
    "for i in range(len(hw_data['amt_div'])):\n",
    "    plt.subplot(nrows,ncols,i+1)\n",
    "    sns.distplot(hw_data.loc[(hw_data['amt_div'] == hw[i]) & \\\n",
    "                              (hw_data['HOUSETYPE_MODE'] == 'block of flats' ), 'AMT_CREDIT'], label = 'House_type = block of flats',hist = False)\n",
    "    \n",
    "    sns.distplot(hw_data.loc[(hw_data['amt_div'] == year_group_sorted[i]) & \\\n",
    "                              (hw_data['HOUSETYPE_MODE'] == 'NaN'), 'AMT_CREDIT'], label = 'house_type = nan',hist = False)\n",
    "    plt.title(str(amt_div[i]))\n",
    "plt.show()\n",
    "\n"
   ]
  },
  {
   "cell_type": "code",
   "execution_count": 15,
   "metadata": {},
   "outputs": [
    {
     "data": {
      "text/plain": [
       "0         block of flats\n",
       "1         block of flats\n",
       "2                    NaN\n",
       "3                    NaN\n",
       "4                    NaN\n",
       "5                    NaN\n",
       "6                    NaN\n",
       "7                    NaN\n",
       "8                    NaN\n",
       "9                    NaN\n",
       "10                   NaN\n",
       "11                   NaN\n",
       "12        block of flats\n",
       "13        block of flats\n",
       "14        block of flats\n",
       "15                   NaN\n",
       "16                   NaN\n",
       "17                   NaN\n",
       "18        block of flats\n",
       "19                   NaN\n",
       "20        block of flats\n",
       "21                   NaN\n",
       "22        block of flats\n",
       "23        block of flats\n",
       "24        block of flats\n",
       "25        block of flats\n",
       "26        block of flats\n",
       "27                   NaN\n",
       "28                   NaN\n",
       "29        block of flats\n",
       "               ...      \n",
       "307481               NaN\n",
       "307482    block of flats\n",
       "307483    block of flats\n",
       "307484               NaN\n",
       "307485               NaN\n",
       "307486    block of flats\n",
       "307487               NaN\n",
       "307488               NaN\n",
       "307489    block of flats\n",
       "307490               NaN\n",
       "307491               NaN\n",
       "307492               NaN\n",
       "307493               NaN\n",
       "307494               NaN\n",
       "307495    block of flats\n",
       "307496               NaN\n",
       "307497               NaN\n",
       "307498    block of flats\n",
       "307499               NaN\n",
       "307500    block of flats\n",
       "307501    block of flats\n",
       "307502               NaN\n",
       "307503               NaN\n",
       "307504               NaN\n",
       "307505    block of flats\n",
       "307506    block of flats\n",
       "307507    block of flats\n",
       "307508    block of flats\n",
       "307509    block of flats\n",
       "307510    block of flats\n",
       "Name: HOUSETYPE_MODE, Length: 307511, dtype: object"
      ]
     },
     "execution_count": 15,
     "metadata": {},
     "output_type": "execute_result"
    }
   ],
   "source": [
    "app_train['HOUSETYPE_MODE']"
   ]
  },
  {
   "cell_type": "code",
   "execution_count": null,
   "metadata": {},
   "outputs": [],
   "source": []
  }
 ],
 "metadata": {
  "kernelspec": {
   "display_name": "Python 3",
   "language": "python",
   "name": "python3"
  },
  "language_info": {
   "codemirror_mode": {
    "name": "ipython",
    "version": 3
   },
   "file_extension": ".py",
   "mimetype": "text/x-python",
   "name": "python",
   "nbconvert_exporter": "python",
   "pygments_lexer": "ipython3",
   "version": "3.7.3"
  }
 },
 "nbformat": 4,
 "nbformat_minor": 2
}
