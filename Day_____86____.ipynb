{
  "nbformat": 4,
  "nbformat_minor": 0,
  "metadata": {
    "colab": {
      "name": "Day_____86____.ipynb",
      "provenance": []
    },
    "kernelspec": {
      "name": "python3",
      "display_name": "Python 3"
    }
  },
  "cells": [
    {
      "cell_type": "code",
      "metadata": {
        "id": "nzcXQkZyFkVb",
        "colab_type": "code",
        "colab": {
          "base_uri": "https://localhost:8080/",
          "height": 34
        },
        "outputId": "a43c1c82-726e-4bf6-f2c3-5cafd81d10ef"
      },
      "source": [
        "import os\n",
        "import keras\n",
        "\n",
        "train,test = keras.datasets.cifar10.load_data()\n",
        "\n",
        "def preprocessing_x(x,flatten=True):\n",
        "  x = x / 255\n",
        "  if flatten:\n",
        "    x = x.reshape((len(x),-1))\n",
        "  return x\n",
        "\n",
        "def preprocessing_y(y, num_classes=10):\n",
        "  if y.shape[-1] == 1:\n",
        "    y = keras.utils.to_categorical(y, num_classes)\n",
        "  return y\n",
        "\n",
        "x_train,y_train = train\n",
        "x_test,y_test = test\n",
        "print(y_train.shape[-1])\n",
        "\n",
        "x_train =  preprocessing_x(x_train)\n",
        "x_test = preprocessing_x(x_test)\n",
        "\n",
        "y_train = preprocessing_y(y_train)\n",
        "y_test = preprocessing_y(y_test)\n",
        "\n"
      ],
      "execution_count": 5,
      "outputs": [
        {
          "output_type": "stream",
          "text": [
            "1\n"
          ],
          "name": "stdout"
        }
      ]
    },
    {
      "cell_type": "code",
      "metadata": {
        "id": "pfOpsQ2uGv7x",
        "colab_type": "code",
        "colab": {
          "base_uri": "https://localhost:8080/",
          "height": 136
        },
        "outputId": "5a7e3543-1420-4834-fd62-6207e2c1cbbd"
      },
      "source": [
        "print(y_train)"
      ],
      "execution_count": 3,
      "outputs": [
        {
          "output_type": "stream",
          "text": [
            "[[0. 0. 0. ... 0. 0. 0.]\n",
            " [0. 0. 0. ... 0. 0. 1.]\n",
            " [0. 0. 0. ... 0. 0. 1.]\n",
            " ...\n",
            " [0. 0. 0. ... 0. 0. 1.]\n",
            " [0. 1. 0. ... 0. 0. 0.]\n",
            " [0. 1. 0. ... 0. 0. 0.]]\n"
          ],
          "name": "stdout"
        }
      ]
    },
    {
      "cell_type": "code",
      "metadata": {
        "id": "n83oWlUXG28E",
        "colab_type": "code",
        "colab": {}
      },
      "source": [
        "#建立神經網路，並加入 BN layer\n",
        "\n",
        "def build_mlp(input_shape, output_units=10, num_neurons=[512, 256, 128]):\n",
        "    input_layer = keras.layers.Input(input_shape)\n",
        "    \n",
        "    for i, n_units in enumerate(num_neurons):\n",
        "        if i == 0:\n",
        "            x = keras.layers.Dense(units=n_units, \n",
        "                                   activation=\"relu\", \n",
        "                                   name=\"hidden_layer\"+str(i+1))(input_layer)\n",
        "            x = BatchNormalization()(x)\n",
        "        else:\n",
        "            x = keras.layers.Dense(units=n_units, \n",
        "                                   activation=\"relu\", \n",
        "                                   name=\"hidden_layer\"+str(i+1))(x)\n",
        "            x = BatchNormalization()(x)\n",
        "    \n",
        "    out = keras.layers.Dense(units=output_units, activation=\"softmax\", name=\"output\")(x)\n",
        "    \n",
        "    model = keras.models.Model(inputs=[input_layer], outputs=[out])\n",
        "    return model"
      ],
      "execution_count": 0,
      "outputs": []
    },
    {
      "cell_type": "code",
      "metadata": {
        "id": "Z_yiSZ74JEjK",
        "colab_type": "code",
        "colab": {}
      },
      "source": [
        "## 超參數設定\n",
        "LEARNING_RATE = 1e-3\n",
        "EPOCHS = 50\n",
        "BATCH_SIZE = 1024\n",
        "MOMENTUM = 0.95"
      ],
      "execution_count": 0,
      "outputs": []
    },
    {
      "cell_type": "code",
      "metadata": {
        "id": "48iqAwxLJ8MP",
        "colab_type": "code",
        "colab": {}
      },
      "source": [
        "\"\"\"\n",
        "# 載入 Callbacks, 並將監控目標設為 validation loss, 且只存最佳參數時的模型\n",
        "\"\"\"\n",
        "from keras.callbacks import ModelCheckpoint\n",
        "\n",
        "model_ckpt = ModelCheckpoint(filepath=\"./tmp.h5\", \n",
        "                             monitor=\"val_loss\", \n",
        "                             save_best_only=True)"
      ],
      "execution_count": 0,
      "outputs": []
    },
    {
      "cell_type": "code",
      "metadata": {
        "id": "V42E6RFSJ-ff",
        "colab_type": "code",
        "colab": {
          "base_uri": "https://localhost:8080/",
          "height": 1000
        },
        "outputId": "88adf4c2-a816-4ef2-8df4-ff9257e48ae7"
      },
      "source": [
        "from keras.layers import BatchNormalization\n",
        "\n",
        "\n",
        "model = build_mlp(input_shape=x_train.shape[1:])\n",
        "print(x_train.shape[1:])\n",
        "model.summary()\n",
        "optimizer = keras.optimizers.SGD(lr=LEARNING_RATE, nesterov=True, momentum=MOMENTUM)\n",
        "model.compile(loss=\"categorical_crossentropy\", metrics=[\"accuracy\"], optimizer=optimizer)\n",
        "\n",
        "model.fit(x_train, y_train, \n",
        "          epochs=EPOCHS, \n",
        "          batch_size=BATCH_SIZE, \n",
        "          validation_data=(x_test, y_test), \n",
        "          shuffle=True,\n",
        "          callbacks=[model_ckpt]\n",
        "         )\n",
        "\n",
        "# Collect results\n",
        "train_loss = model.history.history[\"loss\"]\n",
        "valid_loss = model.history.history[\"val_loss\"]\n",
        "train_acc = model.history.history[\"acc\"]\n",
        "valid_acc = model.history.history[\"val_acc\"]\n",
        "\n",
        "# Load back\n",
        "model = keras.models.load_model(\"./tmp.h5\")\n",
        "loss_loadback, acc_loadback = model.evaluate(x_test, y_test)"
      ],
      "execution_count": 12,
      "outputs": [
        {
          "output_type": "stream",
          "text": [
            "WARNING:tensorflow:From /usr/local/lib/python3.6/dist-packages/keras/backend/tensorflow_backend.py:148: The name tf.placeholder_with_default is deprecated. Please use tf.compat.v1.placeholder_with_default instead.\n",
            "\n",
            "(3072,)\n",
            "Model: \"model_1\"\n",
            "_________________________________________________________________\n",
            "Layer (type)                 Output Shape              Param #   \n",
            "=================================================================\n",
            "input_2 (InputLayer)         (None, 3072)              0         \n",
            "_________________________________________________________________\n",
            "hidden_layer1 (Dense)        (None, 512)               1573376   \n",
            "_________________________________________________________________\n",
            "batch_normalization_1 (Batch (None, 512)               2048      \n",
            "_________________________________________________________________\n",
            "hidden_layer2 (Dense)        (None, 256)               131328    \n",
            "_________________________________________________________________\n",
            "batch_normalization_2 (Batch (None, 256)               1024      \n",
            "_________________________________________________________________\n",
            "hidden_layer3 (Dense)        (None, 128)               32896     \n",
            "_________________________________________________________________\n",
            "batch_normalization_3 (Batch (None, 128)               512       \n",
            "_________________________________________________________________\n",
            "output (Dense)               (None, 10)                1290      \n",
            "=================================================================\n",
            "Total params: 1,742,474\n",
            "Trainable params: 1,740,682\n",
            "Non-trainable params: 1,792\n",
            "_________________________________________________________________\n",
            "WARNING:tensorflow:From /usr/local/lib/python3.6/dist-packages/keras/optimizers.py:793: The name tf.train.Optimizer is deprecated. Please use tf.compat.v1.train.Optimizer instead.\n",
            "\n",
            "WARNING:tensorflow:From /usr/local/lib/python3.6/dist-packages/keras/backend/tensorflow_backend.py:3576: The name tf.log is deprecated. Please use tf.math.log instead.\n",
            "\n",
            "WARNING:tensorflow:From /usr/local/lib/python3.6/dist-packages/tensorflow_core/python/ops/math_grad.py:1424: where (from tensorflow.python.ops.array_ops) is deprecated and will be removed in a future version.\n",
            "Instructions for updating:\n",
            "Use tf.where in 2.0, which has the same broadcast rule as np.where\n",
            "WARNING:tensorflow:From /usr/local/lib/python3.6/dist-packages/keras/backend/tensorflow_backend.py:1033: The name tf.assign_add is deprecated. Please use tf.compat.v1.assign_add instead.\n",
            "\n",
            "WARNING:tensorflow:From /usr/local/lib/python3.6/dist-packages/keras/backend/tensorflow_backend.py:1020: The name tf.assign is deprecated. Please use tf.compat.v1.assign instead.\n",
            "\n",
            "WARNING:tensorflow:From /usr/local/lib/python3.6/dist-packages/keras/backend/tensorflow_backend.py:3005: The name tf.Session is deprecated. Please use tf.compat.v1.Session instead.\n",
            "\n",
            "Train on 50000 samples, validate on 10000 samples\n",
            "Epoch 1/50\n",
            "WARNING:tensorflow:From /usr/local/lib/python3.6/dist-packages/keras/backend/tensorflow_backend.py:190: The name tf.get_default_session is deprecated. Please use tf.compat.v1.get_default_session instead.\n",
            "\n",
            "WARNING:tensorflow:From /usr/local/lib/python3.6/dist-packages/keras/backend/tensorflow_backend.py:197: The name tf.ConfigProto is deprecated. Please use tf.compat.v1.ConfigProto instead.\n",
            "\n",
            "WARNING:tensorflow:From /usr/local/lib/python3.6/dist-packages/keras/backend/tensorflow_backend.py:207: The name tf.global_variables is deprecated. Please use tf.compat.v1.global_variables instead.\n",
            "\n",
            "WARNING:tensorflow:From /usr/local/lib/python3.6/dist-packages/keras/backend/tensorflow_backend.py:216: The name tf.is_variable_initialized is deprecated. Please use tf.compat.v1.is_variable_initialized instead.\n",
            "\n",
            "WARNING:tensorflow:From /usr/local/lib/python3.6/dist-packages/keras/backend/tensorflow_backend.py:223: The name tf.variables_initializer is deprecated. Please use tf.compat.v1.variables_initializer instead.\n",
            "\n",
            "50000/50000 [==============================] - 10s 204us/step - loss: 2.2199 - acc: 0.2684 - val_loss: 2.1263 - val_acc: 0.3131\n",
            "Epoch 2/50\n",
            "50000/50000 [==============================] - 9s 178us/step - loss: 1.7444 - acc: 0.3888 - val_loss: 1.8568 - val_acc: 0.3705\n",
            "Epoch 3/50\n",
            "50000/50000 [==============================] - 9s 176us/step - loss: 1.6176 - acc: 0.4314 - val_loss: 1.6971 - val_acc: 0.4091\n",
            "Epoch 4/50\n",
            "50000/50000 [==============================] - 9s 175us/step - loss: 1.5457 - acc: 0.4572 - val_loss: 1.6547 - val_acc: 0.4207\n",
            "Epoch 5/50\n",
            "50000/50000 [==============================] - 9s 176us/step - loss: 1.4913 - acc: 0.4785 - val_loss: 1.6155 - val_acc: 0.4347\n",
            "Epoch 6/50\n",
            "50000/50000 [==============================] - 9s 177us/step - loss: 1.4465 - acc: 0.4945 - val_loss: 1.5699 - val_acc: 0.4467\n",
            "Epoch 7/50\n",
            "50000/50000 [==============================] - 9s 176us/step - loss: 1.4055 - acc: 0.5094 - val_loss: 1.5632 - val_acc: 0.4506\n",
            "Epoch 8/50\n",
            "50000/50000 [==============================] - 9s 176us/step - loss: 1.3697 - acc: 0.5208 - val_loss: 1.5378 - val_acc: 0.4586\n",
            "Epoch 9/50\n",
            "50000/50000 [==============================] - 9s 176us/step - loss: 1.3380 - acc: 0.5343 - val_loss: 1.5338 - val_acc: 0.4593\n",
            "Epoch 10/50\n",
            "50000/50000 [==============================] - 9s 177us/step - loss: 1.3068 - acc: 0.5469 - val_loss: 1.5123 - val_acc: 0.4661\n",
            "Epoch 11/50\n",
            "50000/50000 [==============================] - 9s 179us/step - loss: 1.2792 - acc: 0.5574 - val_loss: 1.4977 - val_acc: 0.4711\n",
            "Epoch 12/50\n",
            "50000/50000 [==============================] - 9s 178us/step - loss: 1.2501 - acc: 0.5686 - val_loss: 1.4936 - val_acc: 0.4724\n",
            "Epoch 13/50\n",
            "50000/50000 [==============================] - 9s 180us/step - loss: 1.2261 - acc: 0.5771 - val_loss: 1.4882 - val_acc: 0.4738\n",
            "Epoch 14/50\n",
            "50000/50000 [==============================] - 9s 179us/step - loss: 1.2025 - acc: 0.5838 - val_loss: 1.4808 - val_acc: 0.4815\n",
            "Epoch 15/50\n",
            "50000/50000 [==============================] - 9s 177us/step - loss: 1.1774 - acc: 0.5925 - val_loss: 1.4719 - val_acc: 0.4797\n",
            "Epoch 16/50\n",
            "50000/50000 [==============================] - 9s 177us/step - loss: 1.1536 - acc: 0.6005 - val_loss: 1.4634 - val_acc: 0.4829\n",
            "Epoch 17/50\n",
            "50000/50000 [==============================] - 9s 178us/step - loss: 1.1290 - acc: 0.6092 - val_loss: 1.4808 - val_acc: 0.4805\n",
            "Epoch 18/50\n",
            "50000/50000 [==============================] - 9s 176us/step - loss: 1.1070 - acc: 0.6196 - val_loss: 1.4695 - val_acc: 0.4875\n",
            "Epoch 19/50\n",
            "50000/50000 [==============================] - 9s 175us/step - loss: 1.0856 - acc: 0.6277 - val_loss: 1.4602 - val_acc: 0.4880\n",
            "Epoch 20/50\n",
            "50000/50000 [==============================] - 9s 177us/step - loss: 1.0629 - acc: 0.6362 - val_loss: 1.4745 - val_acc: 0.4831\n",
            "Epoch 21/50\n",
            "50000/50000 [==============================] - 9s 176us/step - loss: 1.0412 - acc: 0.6439 - val_loss: 1.4543 - val_acc: 0.4873\n",
            "Epoch 22/50\n",
            "50000/50000 [==============================] - 9s 175us/step - loss: 1.0202 - acc: 0.6513 - val_loss: 1.4797 - val_acc: 0.4873\n",
            "Epoch 23/50\n",
            "50000/50000 [==============================] - 9s 176us/step - loss: 0.9995 - acc: 0.6602 - val_loss: 1.4654 - val_acc: 0.4914\n",
            "Epoch 24/50\n",
            "50000/50000 [==============================] - 9s 176us/step - loss: 0.9778 - acc: 0.6683 - val_loss: 1.4704 - val_acc: 0.4883\n",
            "Epoch 25/50\n",
            "50000/50000 [==============================] - 9s 176us/step - loss: 0.9570 - acc: 0.6778 - val_loss: 1.4686 - val_acc: 0.4877\n",
            "Epoch 26/50\n",
            "50000/50000 [==============================] - 9s 176us/step - loss: 0.9373 - acc: 0.6843 - val_loss: 1.4809 - val_acc: 0.4844\n",
            "Epoch 27/50\n",
            "50000/50000 [==============================] - 9s 178us/step - loss: 0.9194 - acc: 0.6915 - val_loss: 1.4755 - val_acc: 0.4935\n",
            "Epoch 28/50\n",
            "50000/50000 [==============================] - 9s 178us/step - loss: 0.8959 - acc: 0.7017 - val_loss: 1.4900 - val_acc: 0.4910\n",
            "Epoch 29/50\n",
            "50000/50000 [==============================] - 9s 175us/step - loss: 0.8767 - acc: 0.7082 - val_loss: 1.4916 - val_acc: 0.4912\n",
            "Epoch 30/50\n",
            "50000/50000 [==============================] - 9s 176us/step - loss: 0.8547 - acc: 0.7173 - val_loss: 1.4900 - val_acc: 0.4908\n",
            "Epoch 31/50\n",
            "50000/50000 [==============================] - 9s 176us/step - loss: 0.8358 - acc: 0.7241 - val_loss: 1.4947 - val_acc: 0.4924\n",
            "Epoch 32/50\n",
            "50000/50000 [==============================] - 9s 176us/step - loss: 0.8159 - acc: 0.7320 - val_loss: 1.4969 - val_acc: 0.4899\n",
            "Epoch 33/50\n",
            "50000/50000 [==============================] - 9s 175us/step - loss: 0.7962 - acc: 0.7394 - val_loss: 1.5119 - val_acc: 0.4914\n",
            "Epoch 34/50\n",
            "50000/50000 [==============================] - 9s 176us/step - loss: 0.7790 - acc: 0.7468 - val_loss: 1.5118 - val_acc: 0.4918\n",
            "Epoch 35/50\n",
            "50000/50000 [==============================] - 9s 176us/step - loss: 0.7591 - acc: 0.7545 - val_loss: 1.5311 - val_acc: 0.4864\n",
            "Epoch 36/50\n",
            "50000/50000 [==============================] - 9s 176us/step - loss: 0.7407 - acc: 0.7635 - val_loss: 1.5256 - val_acc: 0.4919\n",
            "Epoch 37/50\n",
            "50000/50000 [==============================] - 9s 176us/step - loss: 0.7216 - acc: 0.7701 - val_loss: 1.5414 - val_acc: 0.4933\n",
            "Epoch 38/50\n",
            "50000/50000 [==============================] - 9s 176us/step - loss: 0.7025 - acc: 0.7759 - val_loss: 1.5629 - val_acc: 0.4857\n",
            "Epoch 39/50\n",
            "50000/50000 [==============================] - 9s 176us/step - loss: 0.6860 - acc: 0.7836 - val_loss: 1.5446 - val_acc: 0.4923\n",
            "Epoch 40/50\n",
            "50000/50000 [==============================] - 9s 176us/step - loss: 0.6665 - acc: 0.7918 - val_loss: 1.5756 - val_acc: 0.4863\n",
            "Epoch 41/50\n",
            "50000/50000 [==============================] - 9s 176us/step - loss: 0.6484 - acc: 0.7986 - val_loss: 1.5827 - val_acc: 0.4857\n",
            "Epoch 42/50\n",
            "50000/50000 [==============================] - 9s 176us/step - loss: 0.6300 - acc: 0.8076 - val_loss: 1.6017 - val_acc: 0.4815\n",
            "Epoch 43/50\n",
            "50000/50000 [==============================] - 9s 176us/step - loss: 0.6127 - acc: 0.8138 - val_loss: 1.6057 - val_acc: 0.4833\n",
            "Epoch 44/50\n",
            "50000/50000 [==============================] - 9s 174us/step - loss: 0.5954 - acc: 0.8205 - val_loss: 1.6216 - val_acc: 0.4804\n",
            "Epoch 45/50\n",
            "50000/50000 [==============================] - 9s 173us/step - loss: 0.5772 - acc: 0.8275 - val_loss: 1.6202 - val_acc: 0.4898\n",
            "Epoch 46/50\n",
            "50000/50000 [==============================] - 9s 174us/step - loss: 0.5566 - acc: 0.8367 - val_loss: 1.6225 - val_acc: 0.4915\n",
            "Epoch 47/50\n",
            "50000/50000 [==============================] - 9s 174us/step - loss: 0.5423 - acc: 0.8420 - val_loss: 1.6497 - val_acc: 0.4848\n",
            "Epoch 48/50\n",
            "50000/50000 [==============================] - 9s 176us/step - loss: 0.5250 - acc: 0.8496 - val_loss: 1.6636 - val_acc: 0.4813\n",
            "Epoch 49/50\n",
            "50000/50000 [==============================] - 9s 176us/step - loss: 0.5072 - acc: 0.8551 - val_loss: 1.6688 - val_acc: 0.4877\n",
            "Epoch 50/50\n",
            "50000/50000 [==============================] - 9s 176us/step - loss: 0.4930 - acc: 0.8598 - val_loss: 1.6830 - val_acc: 0.4851\n",
            "10000/10000 [==============================] - 2s 159us/step\n"
          ],
          "name": "stdout"
        }
      ]
    },
    {
      "cell_type": "code",
      "metadata": {
        "id": "XvbP2gibKH5s",
        "colab_type": "code",
        "colab": {
          "base_uri": "https://localhost:8080/",
          "height": 545
        },
        "outputId": "ffeb79c5-057a-447f-d8a2-0f7b06d29102"
      },
      "source": [
        "import matplotlib.pyplot as plt\n",
        "%matplotlib inline\n",
        "\n",
        "plt.plot(range(len(train_loss)), train_loss, label=\"train loss\")\n",
        "plt.plot(range(len(valid_loss)), valid_loss, label=\"valid loss\")\n",
        "plt.hlines(y=loss_loadback, xmin=0, xmax=len(train_loss), colors='r', linestyles='--')\n",
        "plt.legend()\n",
        "plt.title(\"Loss\")\n",
        "plt.show()\n",
        "\n",
        "plt.plot(range(len(train_acc)), train_acc, label=\"train accuracy\")\n",
        "plt.plot(range(len(valid_acc)), valid_acc, label=\"valid accuracy\")\n",
        "plt.hlines(y=acc_loadback, xmin=0, xmax=len(train_loss), colors='r', linestyles='--')\n",
        "plt.legend()\n",
        "plt.title(\"Accuracy\")\n",
        "plt.show()"
      ],
      "execution_count": 13,
      "outputs": [
        {
          "output_type": "display_data",
          "data": {
            "image/png": "[encoded data removed]",
            "text/plain": [
              "<Figure size 432x288 with 1 Axes>"
            ]
          },
          "metadata": {
            "tags": []
          }
        },
        {
          "output_type": "display_data",
          "data": {
            "image/png": "[encoded data removed]",
            "text/plain": [
              "<Figure size 432x288 with 1 Axes>"
            ]
          },
          "metadata": {
            "tags": []
          }
        }
      ]
    }
  ]
}