{
  "nbformat": 4,
  "nbformat_minor": 0,
  "metadata": {
    "colab": {
      "name": "Day___85.ipynb",
      "provenance": []
    },
    "kernelspec": {
      "name": "python3",
      "display_name": "Python 3"
    }
  },
  "cells": [
    {
      "cell_type": "code",
      "metadata": {
        "id": "M9Ze9pmnZjAu",
        "colab_type": "code",
        "colab": {
          "base_uri": "https://localhost:8080/",
          "height": 1000
        },
        "outputId": "9c5ea901-e495-441c-9c6a-0f25ea06005e"
      },
      "source": [
        "import os\n",
        "import keras\n",
        "from keras.layers import BatchNormalization\n",
        "\n",
        "train,test = keras.datasets.cifar10.load_data()\n",
        "\n",
        "def preprocessing_x(x,flatten = True):\n",
        "  x = x / 255\n",
        "  if flatten:\n",
        "    x = x.reshape((len(x),-1))\n",
        "  return x\n",
        "\n",
        "def preprocessing_y(y,num_classes=10):\n",
        "  if y.shape[-1] == 1:\n",
        "    y = keras.utils.to_categorical(y,num_classes)\n",
        "  return y\n",
        "x_train,y_train = train\n",
        "x_test,y_test = test\n",
        "\n",
        "\n",
        "x_train = preprocessing_x(x_train)\n",
        "x_test = preprocessing_x(x_test)\n",
        "\n",
        "y_train = preprocessing_y(y_train)\n",
        "y_test = preprocessing_y(y_test)\n",
        "\n",
        "def build_mlp(input_shape,output_units=10,num_neurons = [512,256,128]):\n",
        "  input_layer = keras.layers.Input(input_shape)\n",
        "\n",
        "  for i,n_units in enumerate(num_neurons):\n",
        "    if i == 0:\n",
        "      x = keras.layers.Dense(units=n_units,activation='relu',name='hidden_layer'+str(i+1))(input_layer)\n",
        "      x = BatchNormalization()(x)\n",
        "    else:\n",
        "      x = keras.layers.Dense(units = n_units,activation = 'relu',name = 'hidden_layer'+str(i+1))(x)\n",
        "      x = BatchNormalization()(x)\n",
        "\n",
        "      out = keras.layers.Dense(units = output_units, activation='softmax',name='output')(x)\n",
        "      model = keras.models.Model(inputs = [input_layer],outputs=[out])\n",
        "      return model\n",
        "\n",
        "learning_rate = 1e-3\n",
        "epochs = 50\n",
        "batch_size = 1024\n",
        "momentum = 0.95\n",
        "\n",
        "from keras.callbacks import EarlyStopping\n",
        "\n",
        "early_stop = EarlyStopping(monitor = 'val_acc',patience=5,verbose=1)\n",
        "\n",
        "model = build_mlp(input_shape = x_train.shape[1:])\n",
        "model.summary()\n",
        "\n",
        "optimizer = keras.optimizers.SGD(lr = learning_rate,nesterov = True,momentum=momentum)\n",
        "model.compile(loss = 'categorical_crossentropy',metrics = ['accuracy'],optimizer = optimizer)\n",
        "\n",
        "model.fit(x_train,y_train,epochs=epochs,batch_size = batch_size,validation_data = (x_test,y_test),shuffle=True,callbacks=[early_stop])\n",
        "\n",
        "\n",
        "\n",
        "\n",
        "\n",
        "\n",
        "\n",
        "\n",
        "\n",
        "\n",
        "\n",
        "\n"
      ],
      "execution_count": 5,
      "outputs": [
        {
          "output_type": "stream",
          "text": [
            "Model: \"model_2\"\n",
            "_________________________________________________________________\n",
            "Layer (type)                 Output Shape              Param #   \n",
            "=================================================================\n",
            "input_2 (InputLayer)         (None, 3072)              0         \n",
            "_________________________________________________________________\n",
            "hidden_layer1 (Dense)        (None, 512)               1573376   \n",
            "_________________________________________________________________\n",
            "batch_normalization_3 (Batch (None, 512)               2048      \n",
            "_________________________________________________________________\n",
            "hidden_layer2 (Dense)        (None, 256)               131328    \n",
            "_________________________________________________________________\n",
            "batch_normalization_4 (Batch (None, 256)               1024      \n",
            "_________________________________________________________________\n",
            "output (Dense)               (None, 10)                2570      \n",
            "=================================================================\n",
            "Total params: 1,710,346\n",
            "Trainable params: 1,708,810\n",
            "Non-trainable params: 1,536\n",
            "_________________________________________________________________\n",
            "WARNING:tensorflow:From /usr/local/lib/python3.6/dist-packages/tensorflow_core/python/ops/math_grad.py:1424: where (from tensorflow.python.ops.array_ops) is deprecated and will be removed in a future version.\n",
            "Instructions for updating:\n",
            "Use tf.where in 2.0, which has the same broadcast rule as np.where\n",
            "WARNING:tensorflow:From /usr/local/lib/python3.6/dist-packages/keras/backend/tensorflow_backend.py:1033: The name tf.assign_add is deprecated. Please use tf.compat.v1.assign_add instead.\n",
            "\n",
            "WARNING:tensorflow:From /usr/local/lib/python3.6/dist-packages/keras/backend/tensorflow_backend.py:1020: The name tf.assign is deprecated. Please use tf.compat.v1.assign instead.\n",
            "\n",
            "WARNING:tensorflow:From /usr/local/lib/python3.6/dist-packages/keras/backend/tensorflow_backend.py:3005: The name tf.Session is deprecated. Please use tf.compat.v1.Session instead.\n",
            "\n",
            "Train on 50000 samples, validate on 10000 samples\n",
            "Epoch 1/50\n",
            "WARNING:tensorflow:From /usr/local/lib/python3.6/dist-packages/keras/backend/tensorflow_backend.py:190: The name tf.get_default_session is deprecated. Please use tf.compat.v1.get_default_session instead.\n",
            "\n",
            "WARNING:tensorflow:From /usr/local/lib/python3.6/dist-packages/keras/backend/tensorflow_backend.py:197: The name tf.ConfigProto is deprecated. Please use tf.compat.v1.ConfigProto instead.\n",
            "\n",
            "WARNING:tensorflow:From /usr/local/lib/python3.6/dist-packages/keras/backend/tensorflow_backend.py:207: The name tf.global_variables is deprecated. Please use tf.compat.v1.global_variables instead.\n",
            "\n",
            "WARNING:tensorflow:From /usr/local/lib/python3.6/dist-packages/keras/backend/tensorflow_backend.py:216: The name tf.is_variable_initialized is deprecated. Please use tf.compat.v1.is_variable_initialized instead.\n",
            "\n",
            "WARNING:tensorflow:From /usr/local/lib/python3.6/dist-packages/keras/backend/tensorflow_backend.py:223: The name tf.variables_initializer is deprecated. Please use tf.compat.v1.variables_initializer instead.\n",
            "\n",
            "50000/50000 [==============================] - 8s 155us/step - loss: 2.1338 - acc: 0.2920 - val_loss: 1.9607 - val_acc: 0.3466\n",
            "Epoch 2/50\n",
            "50000/50000 [==============================] - 6s 128us/step - loss: 1.7026 - acc: 0.4081 - val_loss: 1.7507 - val_acc: 0.3906\n",
            "Epoch 3/50\n",
            "50000/50000 [==============================] - 6s 127us/step - loss: 1.5904 - acc: 0.4436 - val_loss: 1.6581 - val_acc: 0.4164\n",
            "Epoch 4/50\n",
            "50000/50000 [==============================] - 6s 127us/step - loss: 1.5246 - acc: 0.4670 - val_loss: 1.5897 - val_acc: 0.4413\n",
            "Epoch 5/50\n",
            "50000/50000 [==============================] - 6s 127us/step - loss: 1.4741 - acc: 0.4849 - val_loss: 1.5857 - val_acc: 0.4392\n",
            "Epoch 6/50\n",
            "50000/50000 [==============================] - 6s 128us/step - loss: 1.4350 - acc: 0.5013 - val_loss: 1.5397 - val_acc: 0.4603\n",
            "Epoch 7/50\n",
            "50000/50000 [==============================] - 6s 127us/step - loss: 1.3994 - acc: 0.5121 - val_loss: 1.5222 - val_acc: 0.4644\n",
            "Epoch 8/50\n",
            "50000/50000 [==============================] - 6s 127us/step - loss: 1.3696 - acc: 0.5243 - val_loss: 1.5038 - val_acc: 0.4741\n",
            "Epoch 9/50\n",
            "50000/50000 [==============================] - 6s 126us/step - loss: 1.3409 - acc: 0.5359 - val_loss: 1.4938 - val_acc: 0.4728\n",
            "Epoch 10/50\n",
            "50000/50000 [==============================] - 6s 128us/step - loss: 1.3163 - acc: 0.5447 - val_loss: 1.4972 - val_acc: 0.4718\n",
            "Epoch 11/50\n",
            "50000/50000 [==============================] - 6s 128us/step - loss: 1.2915 - acc: 0.5544 - val_loss: 1.4768 - val_acc: 0.4823\n",
            "Epoch 12/50\n",
            "50000/50000 [==============================] - 6s 129us/step - loss: 1.2675 - acc: 0.5648 - val_loss: 1.4513 - val_acc: 0.4900\n",
            "Epoch 13/50\n",
            "50000/50000 [==============================] - 6s 127us/step - loss: 1.2457 - acc: 0.5704 - val_loss: 1.4660 - val_acc: 0.4873\n",
            "Epoch 14/50\n",
            "50000/50000 [==============================] - 6s 129us/step - loss: 1.2241 - acc: 0.5788 - val_loss: 1.4483 - val_acc: 0.4956\n",
            "Epoch 15/50\n",
            "50000/50000 [==============================] - 6s 127us/step - loss: 1.2054 - acc: 0.5855 - val_loss: 1.4569 - val_acc: 0.4930\n",
            "Epoch 16/50\n",
            "50000/50000 [==============================] - 6s 128us/step - loss: 1.1844 - acc: 0.5938 - val_loss: 1.4424 - val_acc: 0.4941\n",
            "Epoch 17/50\n",
            "50000/50000 [==============================] - 6s 129us/step - loss: 1.1657 - acc: 0.6007 - val_loss: 1.4331 - val_acc: 0.4948\n",
            "Epoch 18/50\n",
            "50000/50000 [==============================] - 6s 126us/step - loss: 1.1496 - acc: 0.6053 - val_loss: 1.4343 - val_acc: 0.4950\n",
            "Epoch 19/50\n",
            "50000/50000 [==============================] - 6s 128us/step - loss: 1.1284 - acc: 0.6159 - val_loss: 1.4224 - val_acc: 0.5003\n",
            "Epoch 20/50\n",
            "50000/50000 [==============================] - 7s 130us/step - loss: 1.1114 - acc: 0.6209 - val_loss: 1.4397 - val_acc: 0.4987\n",
            "Epoch 21/50\n",
            "50000/50000 [==============================] - 6s 129us/step - loss: 1.0947 - acc: 0.6271 - val_loss: 1.4192 - val_acc: 0.4998\n",
            "Epoch 22/50\n",
            "50000/50000 [==============================] - 6s 128us/step - loss: 1.0763 - acc: 0.6351 - val_loss: 1.4209 - val_acc: 0.4999\n",
            "Epoch 23/50\n",
            "50000/50000 [==============================] - 7s 130us/step - loss: 1.0620 - acc: 0.6396 - val_loss: 1.4129 - val_acc: 0.5058\n",
            "Epoch 24/50\n",
            "50000/50000 [==============================] - 7s 131us/step - loss: 1.0436 - acc: 0.6466 - val_loss: 1.4155 - val_acc: 0.5065\n",
            "Epoch 25/50\n",
            "50000/50000 [==============================] - 6s 129us/step - loss: 1.0268 - acc: 0.6523 - val_loss: 1.4196 - val_acc: 0.5049\n",
            "Epoch 26/50\n",
            "50000/50000 [==============================] - 6s 128us/step - loss: 1.0105 - acc: 0.6600 - val_loss: 1.4166 - val_acc: 0.5039\n",
            "Epoch 27/50\n",
            "50000/50000 [==============================] - 6s 129us/step - loss: 0.9937 - acc: 0.6668 - val_loss: 1.4186 - val_acc: 0.5045\n",
            "Epoch 28/50\n",
            "50000/50000 [==============================] - 6s 128us/step - loss: 0.9782 - acc: 0.6715 - val_loss: 1.4171 - val_acc: 0.5046\n",
            "Epoch 29/50\n",
            "50000/50000 [==============================] - 6s 128us/step - loss: 0.9632 - acc: 0.6767 - val_loss: 1.4213 - val_acc: 0.5095\n",
            "Epoch 30/50\n",
            "50000/50000 [==============================] - 6s 127us/step - loss: 0.9466 - acc: 0.6833 - val_loss: 1.4169 - val_acc: 0.5083\n",
            "Epoch 31/50\n",
            "50000/50000 [==============================] - 6s 127us/step - loss: 0.9301 - acc: 0.6894 - val_loss: 1.4270 - val_acc: 0.5070\n",
            "Epoch 32/50\n",
            "50000/50000 [==============================] - 6s 128us/step - loss: 0.9145 - acc: 0.6951 - val_loss: 1.4268 - val_acc: 0.5040\n",
            "Epoch 33/50\n",
            "50000/50000 [==============================] - 6s 127us/step - loss: 0.9004 - acc: 0.7008 - val_loss: 1.4265 - val_acc: 0.5089\n",
            "Epoch 34/50\n",
            "50000/50000 [==============================] - 6s 127us/step - loss: 0.8845 - acc: 0.7063 - val_loss: 1.4354 - val_acc: 0.5061\n",
            "Epoch 00034: early stopping\n"
          ],
          "name": "stdout"
        },
        {
          "output_type": "execute_result",
          "data": {
            "text/plain": [
              "<keras.callbacks.History at 0x7f341a29ee80>"
            ]
          },
          "metadata": {
            "tags": []
          },
          "execution_count": 5
        }
      ]
    },
    {
      "cell_type": "code",
      "metadata": {
        "id": "Pj6avoUtdZiX",
        "colab_type": "code",
        "colab": {
          "base_uri": "https://localhost:8080/",
          "height": 562
        },
        "outputId": "d1d260ba-ba9d-411b-ad5f-93d2c0c74f14"
      },
      "source": [
        "train_loss = model.history.history['loss']\n",
        "valid_loss =  model.history.history['val_loss']\n",
        "train_acc = model.history.history['acc']\n",
        "valid_acc = model.history.history['val_acc']\n",
        "\n",
        "\n",
        "import matplotlib.pyplot as plt\n",
        "%matplotlib inline\n",
        "\n",
        "plt.plot(range(len(train_loss)), train_loss, label=\"train loss\")\n",
        "plt.plot(range(len(valid_loss)), valid_loss, label=\"valid loss\")\n",
        "plt.legend()\n",
        "plt.title(\"Loss\")\n",
        "plt.show()\n",
        "\n",
        "plt.plot(range(len(train_acc)), train_acc, label=\"train accuracy\")\n",
        "plt.plot(range(len(valid_acc)), valid_acc, label=\"valid accuracy\")\n",
        "plt.legend()\n",
        "plt.title(\"Accuracy\")\n"
      ],
      "execution_count": 6,
      "outputs": [
        {
          "output_type": "display_data",
          "data": {
            "image/png": "[encoded data removed]",
            "text/plain": [
              "<Figure size 432x288 with 1 Axes>"
            ]
          },
          "metadata": {
            "tags": []
          }
        },
        {
          "output_type": "execute_result",
          "data": {
            "text/plain": [
              "Text(0.5, 1.0, 'Accuracy')"
            ]
          },
          "metadata": {
            "tags": []
          },
          "execution_count": 6
        },
        {
          "output_type": "display_data",
          "data": {
            "image/png": "[encoded data removed]",
            "text/plain": [
              "<Figure size 432x288 with 1 Axes>"
            ]
          },
          "metadata": {
            "tags": []
          }
        }
      ]
    },
    {
      "cell_type": "code",
      "metadata": {
        "id": "DJyTmOZQfYkZ",
        "colab_type": "code",
        "colab": {}
      },
      "source": [
        ""
      ],
      "execution_count": 0,
      "outputs": []
    }
  ]
}