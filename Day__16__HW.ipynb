{
 "cells": [
  {
   "cell_type": "code",
   "execution_count": null,
   "metadata": {},
   "outputs": [
    {
     "name": "stdout",
     "output_type": "stream",
     "text": [
      "(38.192, 42.61]     38108\n",
      "(33.773, 38.192]    36195\n",
      "(29.355, 33.773]    35088\n",
      "(42.61, 47.028]     34019\n",
      "(51.447, 55.865]    31287\n",
      "(47.028, 51.447]    29772\n",
      "(55.865, 60.284]    29229\n",
      "(24.936, 29.355]    28156\n",
      "(60.284, 64.702]    24079\n",
      "(20.469, 24.936]    11860\n",
      "(64.702, 69.121]     9718\n",
      "Name: YEARS_BINNED, dtype: int64\n"
     ]
    }
   ],
   "source": [
    "import os\n",
    "import pandas as pd\n",
    "import numpy as np\n",
    "import matplotlib.pyplot as plt\n",
    "#different module and pattern\n",
    "import seaborn as sns\n",
    "%matplotlib inline\n",
    "import warnings\n",
    "warnings.filterwarnings('ignore')\n",
    "\n",
    "f_app = os.path.expanduser('~/Desktop/application_train.csv')\n",
    "app_train = pd.read_csv(f_app)\n",
    "\n",
    "app_train['DAYS_BIRTH'] = abs(app_train['DAYS_BIRTH'])\n",
    "\n",
    "age_data = app_train[['TARGET','DAYS_BIRTH']]\n",
    "age_data['YEARS_BIRTH'] = age_data['DAYS_BIRTH']/365\n",
    "age_data['YEARS_BINNED'] = pd.cut(age_data['YEARS_BIRTH'],bins=11)\n",
    "print(age_data['YEARS_BINNED'].value_counts())\n",
    "age_data.head()\n",
    "\n",
    "year_group_sorted = age_data['YEARS_BINNED'].sort_values()\n",
    "plt.figure(figsize=(8,6))\n",
    "for i in range(len(year_group_sorted)):\n",
    "    sns.distplot(age_data.loc[(age_data['YEARS_BINNED'] == year_group_sorted[i]) & \\\n",
    "                              (age_data['TARGET'] == 0), 'YEARS_BIRTH'], label = str(year_group_sorted[i]))\n",
    "    \n",
    "    sns.distplot(age_data.loc[(age_data['YEARS_BINNED'] == year_group_sorted[i]) & \\\n",
    "                              (age_data['TARGET'] == 1), 'YEARS_BIRTH'], label = str(year_group_sorted[i]))\n",
    "plt.title('KDE with Age groups')\n",
    "plt.show()"
   ]
  },
  {
   "cell_type": "code",
   "execution_count": null,
   "metadata": {},
   "outputs": [],
   "source": []
  }
 ],
 "metadata": {
  "kernelspec": {
   "display_name": "Python 3",
   "language": "python",
   "name": "python3"
  },
  "language_info": {
   "codemirror_mode": {
    "name": "ipython",
    "version": 3
   },
   "file_extension": ".py",
   "mimetype": "text/x-python",
   "name": "python",
   "nbconvert_exporter": "python",
   "pygments_lexer": "ipython3",
   "version": "3.7.3"
  }
 },
 "nbformat": 4,
 "nbformat_minor": 2
}
