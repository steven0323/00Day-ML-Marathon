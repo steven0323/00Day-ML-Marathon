{
  "nbformat": 4,
  "nbformat_minor": 0,
  "metadata": {
    "colab": {
      "name": "Day___83__.ipynb",
      "provenance": []
    },
    "kernelspec": {
      "name": "python3",
      "display_name": "Python 3"
    }
  },
  "cells": [
    {
      "cell_type": "code",
      "metadata": {
        "id": "QKjOtZg3X8cc",
        "colab_type": "code",
        "colab": {}
      },
      "source": [
        "# Batch Normalization\n",
        "# 每一個input feature 獨立做 normalization\n",
        "# 利用 batch statistics 做 normalization 而非整份資料，可解決gradient vanishing的問題，可以用較大的learning rate並取代dropout & regularize"
      ],
      "execution_count": 0,
      "outputs": []
    },
    {
      "cell_type": "markdown",
      "metadata": {
        "id": "iidoeApWYHjQ",
        "colab_type": "text"
      },
      "source": [
        ""
      ]
    },
    {
      "cell_type": "code",
      "metadata": {
        "id": "9RtZMht_a9bZ",
        "colab_type": "code",
        "colab": {
          "base_uri": "https://localhost:8080/",
          "height": 80
        },
        "outputId": "4f8e5b92-447c-4fb3-911d-30c2f3204f8d"
      },
      "source": [
        "import os\n",
        "import keras\n",
        "import itertools"
      ],
      "execution_count": 2,
      "outputs": [
        {
          "output_type": "stream",
          "text": [
            "Using TensorFlow backend.\n"
          ],
          "name": "stderr"
        },
        {
          "output_type": "display_data",
          "data": {
            "text/html": [
              "<p style=\"color: red;\">\n",
              "The default version of TensorFlow in Colab will soon switch to TensorFlow 2.x.<br>\n",
              "We recommend you <a href=\"https://www.tensorflow.org/guide/migrate\" target=\"_blank\">upgrade</a> now \n",
              "or ensure your notebook will continue to use TensorFlow 1.x via the <code>%tensorflow_version 1.x</code> magic:\n",
              "<a href=\"https://colab.research.google.com/notebooks/tensorflow_version.ipynb\" target=\"_blank\">more info</a>.</p>\n"
            ],
            "text/plain": [
              "<IPython.core.display.HTML object>"
            ]
          },
          "metadata": {
            "tags": []
          }
        }
      ]
    },
    {
      "cell_type": "code",
      "metadata": {
        "id": "_uWo7X_1bDH5",
        "colab_type": "code",
        "colab": {
          "base_uri": "https://localhost:8080/",
          "height": 85
        },
        "outputId": "0a4d8399-4f6e-486d-87eb-87b90e0216ad"
      },
      "source": [
        "train,test = keras.datasets.cifar10.load_data()\n",
        "\n",
        "def preprocessing_x(x,flatten = True):\n",
        "  x = x / 255.\n",
        "  if flatten:\n",
        "    print(x.shape)\n",
        "    # convert 32 32 3 to 1 dimension\n",
        "    x = x.reshape((len(x),-1))\n",
        "    print(x.shape)\n",
        "  return x\n",
        "\n",
        "def preprocessing_y(y,num_classes=10):\n",
        "  if y.shape[-1] == 1:\n",
        "    y = keras.utils.to_categorical(y,num_classes)\n",
        "  return y\n",
        "\n",
        "x_train, y_train = train\n",
        "x_test, y_test = test\n",
        "\n",
        "x_train = preprocessing_x(x_train)\n",
        "x_test = preprocessing_x(x_test)\n",
        "\n",
        "y_train = preprocessing_y(y_train)\n",
        "y_test = preprocessing_y(y_test)\n",
        "\n",
        "from keras.layers import BatchNormalization\n",
        "\n",
        "def build_mlp(input_shape,output_units=10,num_neurons=[512,256,128]):\n",
        "  input_layer = keras.layers.Input(input_shape)\n",
        "\n",
        "  for i,n_units in enumerate(num_neurons):\n",
        "    if i==0:\n",
        "      x = keras.layers.Dense(units = n_units,activation='relu',name='hidden_layer'+str(i+1))(input_layer)\n",
        "      x = BatchNormalization()(x)\n",
        "    else:\n",
        "      x = keras.layers.Dense(units = n_units,activation='relu',name='hidden_layer'+str(i+1))(x)\n",
        "      x = BatchNormalization()(x)\n",
        "    out = keras.layers.Dense(units = output_units,activation='softmax',name='output')(x)\n",
        "\n",
        "    model = keras.models.Model(inputs = [input_layer],outputs=[out])\n",
        "    return model\n",
        "  \n"
      ],
      "execution_count": 12,
      "outputs": [
        {
          "output_type": "stream",
          "text": [
            "(50000, 32, 32, 3)\n",
            "(50000, 3072)\n",
            "(10000, 32, 32, 3)\n",
            "(10000, 3072)\n"
          ],
          "name": "stdout"
        }
      ]
    },
    {
      "cell_type": "code",
      "metadata": {
        "id": "15Aaj_5KdkRK",
        "colab_type": "code",
        "colab": {
          "base_uri": "https://localhost:8080/",
          "height": 986
        },
        "outputId": "297b8053-5642-4c61-d88d-d7189f10f6d6"
      },
      "source": [
        "learning_rate = 1e-3\n",
        "epochs=20\n",
        "batch_size = 1024\n",
        "momentum = 0.95\n",
        "\n",
        "model = build_mlp(input_shape=x_train.shape[1:])\n",
        "model.summary()\n",
        "optimizer = keras.optimizers.SGD(lr=learning_rate, nesterov=True, momentum=momentum)\n",
        "model.compile(loss=\"categorical_crossentropy\", metrics=[\"accuracy\"], optimizer=optimizer)\n",
        "\n",
        "model.fit(x_train, y_train, \n",
        "          epochs=epochs, \n",
        "          batch_size=batch_size, \n",
        "          validation_data=(x_test, y_test), \n",
        "          shuffle=True)\n",
        "\n",
        "# Collect results\n",
        "train_loss = model.history.history[\"loss\"]\n",
        "valid_loss = model.history.history[\"val_loss\"]\n",
        "train_acc = model.history.history[\"acc\"]\n",
        "valid_acc = model.history.history[\"val_acc\"]"
      ],
      "execution_count": 15,
      "outputs": [
        {
          "output_type": "stream",
          "text": [
            "Model: \"model_5\"\n",
            "_________________________________________________________________\n",
            "Layer (type)                 Output Shape              Param #   \n",
            "=================================================================\n",
            "input_7 (InputLayer)         (None, 3072)              0         \n",
            "_________________________________________________________________\n",
            "hidden_layer1 (Dense)        (None, 512)               1573376   \n",
            "_________________________________________________________________\n",
            "batch_normalization_6 (Batch (None, 512)               2048      \n",
            "_________________________________________________________________\n",
            "output (Dense)               (None, 10)                5130      \n",
            "=================================================================\n",
            "Total params: 1,580,554\n",
            "Trainable params: 1,579,530\n",
            "Non-trainable params: 1,024\n",
            "_________________________________________________________________\n",
            "Train on 50000 samples, validate on 10000 samples\n",
            "Epoch 1/20\n",
            "50000/50000 [==============================] - 8s 157us/step - loss: 2.1069 - acc: 0.2831 - val_loss: 1.9682 - val_acc: 0.3404\n",
            "Epoch 2/20\n",
            "50000/50000 [==============================] - 7s 146us/step - loss: 1.7350 - acc: 0.3959 - val_loss: 1.7294 - val_acc: 0.3977\n",
            "Epoch 3/20\n",
            "50000/50000 [==============================] - 7s 146us/step - loss: 1.6492 - acc: 0.4277 - val_loss: 1.6752 - val_acc: 0.4175\n",
            "Epoch 4/20\n",
            "50000/50000 [==============================] - 7s 147us/step - loss: 1.5975 - acc: 0.4462 - val_loss: 1.6283 - val_acc: 0.4390\n",
            "Epoch 5/20\n",
            "50000/50000 [==============================] - 7s 145us/step - loss: 1.5590 - acc: 0.4592 - val_loss: 1.5908 - val_acc: 0.4487\n",
            "Epoch 6/20\n",
            "50000/50000 [==============================] - 7s 147us/step - loss: 1.5287 - acc: 0.4698 - val_loss: 1.5727 - val_acc: 0.4531\n",
            "Epoch 7/20\n",
            "50000/50000 [==============================] - 7s 147us/step - loss: 1.5015 - acc: 0.4802 - val_loss: 1.5666 - val_acc: 0.4500\n",
            "Epoch 8/20\n",
            "50000/50000 [==============================] - 7s 145us/step - loss: 1.4779 - acc: 0.4882 - val_loss: 1.5342 - val_acc: 0.4632\n",
            "Epoch 9/20\n",
            "50000/50000 [==============================] - 7s 145us/step - loss: 1.4543 - acc: 0.4977 - val_loss: 1.5283 - val_acc: 0.4654\n",
            "Epoch 10/20\n",
            "50000/50000 [==============================] - 7s 144us/step - loss: 1.4338 - acc: 0.5040 - val_loss: 1.5126 - val_acc: 0.4737\n",
            "Epoch 11/20\n",
            "50000/50000 [==============================] - 7s 146us/step - loss: 1.4146 - acc: 0.5109 - val_loss: 1.4966 - val_acc: 0.4772\n",
            "Epoch 12/20\n",
            "50000/50000 [==============================] - 7s 145us/step - loss: 1.3964 - acc: 0.5167 - val_loss: 1.4885 - val_acc: 0.4784\n",
            "Epoch 13/20\n",
            "50000/50000 [==============================] - 7s 145us/step - loss: 1.3787 - acc: 0.5238 - val_loss: 1.4800 - val_acc: 0.4788\n",
            "Epoch 14/20\n",
            "50000/50000 [==============================] - 7s 145us/step - loss: 1.3635 - acc: 0.5296 - val_loss: 1.4687 - val_acc: 0.4851\n",
            "Epoch 15/20\n",
            "50000/50000 [==============================] - 7s 144us/step - loss: 1.3460 - acc: 0.5370 - val_loss: 1.4666 - val_acc: 0.4856\n",
            "Epoch 16/20\n",
            "50000/50000 [==============================] - 7s 144us/step - loss: 1.3325 - acc: 0.5407 - val_loss: 1.4538 - val_acc: 0.4919\n",
            "Epoch 17/20\n",
            "50000/50000 [==============================] - 7s 146us/step - loss: 1.3184 - acc: 0.5446 - val_loss: 1.4502 - val_acc: 0.4917\n",
            "Epoch 18/20\n",
            "50000/50000 [==============================] - 7s 145us/step - loss: 1.3043 - acc: 0.5519 - val_loss: 1.4418 - val_acc: 0.4927\n",
            "Epoch 19/20\n",
            "50000/50000 [==============================] - 7s 143us/step - loss: 1.2918 - acc: 0.5571 - val_loss: 1.4427 - val_acc: 0.4942\n",
            "Epoch 20/20\n",
            "50000/50000 [==============================] - 7s 143us/step - loss: 1.2776 - acc: 0.5629 - val_loss: 1.4428 - val_acc: 0.4957\n"
          ],
          "name": "stdout"
        }
      ]
    },
    {
      "cell_type": "code",
      "metadata": {
        "id": "AKe7wH5BfMWW",
        "colab_type": "code",
        "colab": {
          "base_uri": "https://localhost:8080/",
          "height": 545
        },
        "outputId": "d0ce69f2-3167-419e-ae61-42fb4c7a1aea"
      },
      "source": [
        "import matplotlib.pyplot as plt\n",
        "%matplotlib inline\n",
        "\n",
        "plt.plot(range(len(train_loss)), train_loss, label=\"train loss\")\n",
        "plt.plot(range(len(valid_loss)), valid_loss, label=\"valid loss\")\n",
        "plt.legend()\n",
        "plt.title(\"Loss\")\n",
        "plt.show()\n",
        "\n",
        "plt.plot(range(len(train_acc)), train_acc, label=\"train accuracy\")\n",
        "plt.plot(range(len(valid_acc)), valid_acc, label=\"valid accuracy\")\n",
        "plt.legend()\n",
        "plt.title(\"Accuracy\")\n",
        "plt.show()"
      ],
      "execution_count": 16,
      "outputs": [
        {
          "output_type": "display_data",
          "data": {
            "image/png": "[encoded data removed]",
            "text/plain": [
              "<Figure size 432x288 with 1 Axes>"
            ]
          },
          "metadata": {
            "tags": []
          }
        },
        {
          "output_type": "display_data",
          "data": {
            "image/png": "[encoded data removed]",
            "text/plain": [
              "<Figure size 432x288 with 1 Axes>"
            ]
          },
          "metadata": {
            "tags": []
          }
        }
      ]
    },
    {
      "cell_type": "code",
      "metadata": {
        "id": "1Cg-urFWg5ru",
        "colab_type": "code",
        "colab": {}
      },
      "source": [
        ""
      ],
      "execution_count": 0,
      "outputs": []
    }
  ]
}