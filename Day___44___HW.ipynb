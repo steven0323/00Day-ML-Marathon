{
 "cells": [
  {
   "cell_type": "code",
   "execution_count": null,
   "metadata": {},
   "outputs": [],
   "source": [
    "from sklearn import datasets,metrics\n",
    "from sklearn.ensemble import RandomForestClassifier\n",
    "from sklearn.model_selection import train_test_split\n",
    "\n",
    "boston = datasets.load_boston()\n",
    "x_train,x_test,y_train,y_test = train_test_split(boston.data,boston.target,test_size = 0.25, random_state = 4)\n",
    "clf = RandomForestClassifier(n_estimators = 30, max_depth = 4)\n",
    "\n",
    "clf.fit(x_train,y_train)\n",
    "y_prediction = clf.predict(x_test)\n",
    "acc = metrics.accuracy_score(y_test,y_predictiom)\n",
    "pri"
   ]
  }
 ],
 "metadata": {
  "kernelspec": {
   "display_name": "Python 3",
   "language": "python",
   "name": "python3"
  },
  "language_info": {
   "codemirror_mode": {
    "name": "ipython",
    "version": 3
   },
   "file_extension": ".py",
   "mimetype": "text/x-python",
   "name": "python",
   "nbconvert_exporter": "python",
   "pygments_lexer": "ipython3",
   "version": "3.7.3"
  }
 },
 "nbformat": 4,
 "nbformat_minor": 2
}
